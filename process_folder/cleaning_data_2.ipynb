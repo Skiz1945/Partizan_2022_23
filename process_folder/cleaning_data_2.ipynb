{
 "cells": [
  {
   "cell_type": "code",
   "execution_count": 1,
   "metadata": {},
   "outputs": [],
   "source": [
    "import pandas as pd\n",
    "\n",
    "file_path = r\"C:\\Users\\User\\OneDrive\\Desktop\\python_developer\\partizan_2022\\partizan_2022_cleaning_1.csv\"\n",
    "\n",
    "df = pd.read_csv(file_path)"
   ]
  },
  {
   "cell_type": "code",
   "execution_count": 2,
   "metadata": {},
   "outputs": [
    {
     "name": "stdout",
     "output_type": "stream",
     "text": [
      "            round      points  two_points_made  two_points_attempted  \\\n",
      "count  500.000000  500.000000       500.000000             500.00000   \n",
      "mean    20.020000   13.328000         3.216000               5.80400   \n",
      "std     11.234769   22.181715         5.555454               9.73237   \n",
      "min      1.000000    0.000000         0.000000               0.00000   \n",
      "25%     10.000000    2.000000         0.000000               1.00000   \n",
      "50%     20.000000    6.000000         1.000000               3.00000   \n",
      "75%     30.000000   14.000000         4.000000               6.00000   \n",
      "max     39.000000  104.000000        29.000000              51.00000   \n",
      "\n",
      "       three_points_made  three_points_attempted  free_throws_made  \\\n",
      "count         500.000000              500.000000        500.000000   \n",
      "mean            1.364000                3.420000          2.804000   \n",
      "std             2.604048                5.897895          5.153514   \n",
      "min             0.000000                0.000000          0.000000   \n",
      "25%             0.000000                0.000000          0.000000   \n",
      "50%             0.000000                1.000000          1.000000   \n",
      "75%             2.000000                4.000000          3.000000   \n",
      "max            17.000000               35.000000         28.000000   \n",
      "\n",
      "       free_throws_attempted  offensive_rebounds  defensive_rebounds  ...  \\\n",
      "count             500.000000          500.000000          500.000000  ...   \n",
      "mean                3.404000            1.304000            3.102000  ...   \n",
      "std                 6.178765            2.698546            5.551688  ...   \n",
      "min                 0.000000            0.000000            0.000000  ...   \n",
      "25%                 0.000000            0.000000            0.000000  ...   \n",
      "50%                 1.000000            0.000000            1.000000  ...   \n",
      "75%                 4.000000            1.000000            3.000000  ...   \n",
      "max                34.000000           17.000000           30.000000  ...   \n",
      "\n",
      "          assists     steals   turnovers  blocks_favour  blocks_against  \\\n",
      "count  500.000000  500.00000  500.000000     500.000000      500.000000   \n",
      "mean     2.248000    0.98000    1.636000       0.392000        0.348000   \n",
      "std      3.928022    1.89176    3.053876       0.894391        0.795085   \n",
      "min      0.000000    0.00000    0.000000       0.000000        0.000000   \n",
      "25%      0.000000    0.00000    0.000000       0.000000        0.000000   \n",
      "50%      1.000000    0.00000    1.000000       0.000000        0.000000   \n",
      "75%      2.000000    1.00000    2.000000       0.000000        0.000000   \n",
      "max     22.000000   14.00000   20.000000       6.000000        6.000000   \n",
      "\n",
      "       fouls_committed  fouls_received   valuation  plus_minus  total_seconds  \n",
      "count       500.000000      500.000000  500.000000  500.000000     500.000000  \n",
      "mean          3.316000        3.588000   14.398000    0.890000    1881.600000  \n",
      "std           5.486378        6.081136   24.964415    8.389438    3037.491757  \n",
      "min           0.000000        0.000000  -10.000000  -32.000000       0.000000  \n",
      "25%           1.000000        0.000000    0.000000   -3.000000     460.000000  \n",
      "50%           2.000000        2.000000    6.000000    0.000000    1126.500000  \n",
      "75%           3.000000        4.000000   16.250000    5.000000    1730.500000  \n",
      "max          34.000000       29.000000  120.000000   37.000000   13500.000000  \n",
      "\n",
      "[8 rows x 21 columns]\n"
     ]
    }
   ],
   "source": [
    "print(df.describe())"
   ]
  },
  {
   "cell_type": "code",
   "execution_count": null,
   "metadata": {},
   "outputs": [
    {
     "name": "stdout",
     "output_type": "stream",
     "text": [
      "['MAD-PAR' 'PAR-MAD' 'ULK-PAR' 'PAR-OLY' 'BAR-PAR' 'ZAL-PAR' 'PAR-BAS'\n",
      " 'TEL-PAR' 'PAM-PAR' 'MCO-PAR' 'RED-PAR' 'ASV-PAR' 'PAR-TEL' 'PAR-ASV'\n",
      " 'PAR-PAM' 'PAR-PAN' 'PAR-MUN' 'VIR-PAR' 'PAR-BER' 'PAR-RED' 'BAS-PAR'\n",
      " 'MUN-PAR' 'OLY-PAR' 'IST-PAR' 'PAN-PAR' 'PAR-ULK' 'PAR-BAR' 'BER-PAR'\n",
      " 'PAR-MIL' 'PAR-IST' 'PAR-VIR' 'MIL-PAR' 'PAR-ZAL' 'PAR-MCO']\n",
      "['PLAYOFFS' 'REGULAR SEASON']\n",
      "['Punter Kevin' 'Vukcevic Tristan' 'Leday Zach' 'Koprivica Balsa'\n",
      " 'Smailagic Alen' 'Papapetrou Ioannis' 'Lessort Mathias' 'Trifunovic Uros'\n",
      " 'Madar Yam' 'PARTIZAN MOZZART BET BELGRADE' 'Avramovic Aleksa'\n",
      " 'Brodziansky Vladimir' 'Glas Gregor' 'Jovanovic Dordje' 'Andjusic Danilo'\n",
      " 'Nunnally James' 'Exum Dante']\n"
     ]
    }
   ],
   "source": [
    "# check unique values for categorical columns to ensure that categorical columns have consistent formats\n",
    "\n",
    "print(df['game'].unique())\n",
    "print(df['phase'].unique())\n",
    "print(df['player'].unique())"
   ]
  },
  {
   "cell_type": "code",
   "execution_count": null,
   "metadata": {},
   "outputs": [
    {
     "name": "stdout",
     "output_type": "stream",
     "text": [
      "Empty DataFrame\n",
      "Columns: [game, round, phase, is_starter, is_playing, player, minutes, points, two_points_made, two_points_attempted, three_points_made, three_points_attempted, free_throws_made, free_throws_attempted, offensive_rebounds, defensive_rebounds, total_rebounds, assists, steals, turnovers, blocks_favour, blocks_against, fouls_committed, fouls_received, valuation, plus_minus, total_seconds]\n",
      "Index: []\n",
      "\n",
      "[0 rows x 27 columns]\n"
     ]
    }
   ],
   "source": [
    "# check for duplicate rows\n",
    "\n",
    "duplicates = df[df.duplicated(subset=['game', 'round', 'player'], keep=False)]\n",
    "print(duplicates)"
   ]
  },
  {
   "cell_type": "code",
   "execution_count": 5,
   "metadata": {},
   "outputs": [
    {
     "name": "stdout",
     "output_type": "stream",
     "text": [
      "        game  round     phase  is_starter  is_playing            player  \\\n",
      "189  MAD-PAR     36  PLAYOFFS       False        True  Vukcevic Tristan   \n",
      "406  MAD-PAR     36  PLAYOFFS       False        True   Andjusic Danilo   \n",
      "\n",
      "    minutes  points  two_points_made  two_points_attempted  ...  assists  \\\n",
      "189   00:00       0                0                     0  ...        0   \n",
      "406   00:00       0                0                     0  ...        0   \n",
      "\n",
      "     steals  turnovers  blocks_favour  blocks_against  fouls_committed  \\\n",
      "189       0          0              0               0                1   \n",
      "406       0          0              0               0                1   \n",
      "\n",
      "     fouls_received  valuation  plus_minus  total_seconds  \n",
      "189               0         -1           0              0  \n",
      "406               0         -1           0              0  \n",
      "\n",
      "[2 rows x 27 columns]\n",
      "Reason: this behavior is consequence of foul committed on the bench or a technical foul\n"
     ]
    }
   ],
   "source": [
    "def check_inconsistencies():\n",
    "    inconsistencies_is_playing_true = df[(df['total_seconds'] == 0) & (df['is_playing'] == True)]\n",
    "    inconsistencies_is_playing_false = df[(df['total_seconds'] != 0) & (df['is_playing'] == False)]\n",
    "    \n",
    "    if inconsistencies_is_playing_true.empty and inconsistencies_is_playing_false.empty:\n",
    "        print('No inconsistencies found')\n",
    "        \n",
    "    if not inconsistencies_is_playing_true.empty:\n",
    "        print(inconsistencies_is_playing_true)\n",
    "        print('Reason: this behavior is consequence of foul committed on the bench or a technical foul') \n",
    "    \n",
    "    if not inconsistencies_is_playing_false.empty:\n",
    "        print(inconsistencies_is_playing_false)\n",
    "        print('Reason: this behavior is consequence of foul committed on the bench or a technical foul')\n",
    "        \n",
    "check_inconsistencies()"
   ]
  },
  {
   "cell_type": "code",
   "execution_count": null,
   "metadata": {},
   "outputs": [
    {
     "name": "stdout",
     "output_type": "stream",
     "text": [
      "game                      object\n",
      "round                      int64\n",
      "phase                     object\n",
      "is_starter                  bool\n",
      "is_playing                  bool\n",
      "player                    object\n",
      "minutes                   object\n",
      "points                     int64\n",
      "two_points_made            int64\n",
      "two_points_attempted       int64\n",
      "three_points_made          int64\n",
      "three_points_attempted     int64\n",
      "free_throws_made           int64\n",
      "free_throws_attempted      int64\n",
      "offensive_rebounds         int64\n",
      "defensive_rebounds         int64\n",
      "total_rebounds             int64\n",
      "assists                    int64\n",
      "steals                     int64\n",
      "turnovers                  int64\n",
      "blocks_favour              int64\n",
      "blocks_against             int64\n",
      "fouls_committed            int64\n",
      "fouls_received             int64\n",
      "valuation                  int64\n",
      "plus_minus                 int64\n",
      "total_seconds              int64\n",
      "dtype: object\n"
     ]
    }
   ],
   "source": [
    "# Check data types to ensure that all columns have the correct data type\n",
    "\n",
    "print(df.dtypes)"
   ]
  },
  {
   "cell_type": "code",
   "execution_count": null,
   "metadata": {},
   "outputs": [],
   "source": [
    "df.info()"
   ]
  }
 ],
 "metadata": {
  "kernelspec": {
   "display_name": "python_developer",
   "language": "python",
   "name": "python3"
  },
  "language_info": {
   "codemirror_mode": {
    "name": "ipython",
    "version": 3
   },
   "file_extension": ".py",
   "mimetype": "text/x-python",
   "name": "python",
   "nbconvert_exporter": "python",
   "pygments_lexer": "ipython3",
   "version": "3.11.10"
  }
 },
 "nbformat": 4,
 "nbformat_minor": 2
}
