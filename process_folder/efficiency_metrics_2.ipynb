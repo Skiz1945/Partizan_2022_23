{
 "cells": [
  {
   "cell_type": "code",
   "execution_count": null,
   "metadata": {},
   "outputs": [],
   "source": [
    "import pandas as pd\n",
    "\n",
    "file_path = 'C:\\\\Users\\\\User\\\\OneDrive\\\\Desktop\\\\python_developer\\\\partizan_2022\\\\data\\\\partizan_2022_cleaned.csv'\n",
    "\n",
    "df = pd.read_csv(file_path) "
   ]
  },
  {
   "cell_type": "markdown",
   "metadata": {},
   "source": [
    "### Efficiency metrics\n",
    "\n",
    "1. True Shooting Percentage (TS%)\n",
    "2. Points per 32 Minutes (close to typical starter's minutes)\n",
    "3. Assist-to-Turnover Ratio (AST/TO)\n",
    "4. Usage Rate (USG%)\n",
    "5. Points per possession (PPP) \n",
    "6. Rebound Rate (REB%)"
   ]
  },
  {
   "cell_type": "code",
   "execution_count": 157,
   "metadata": {},
   "outputs": [],
   "source": [
    "# filter \n",
    "players = df[df['player'] != 'PARTIZAN MOZZART BET BELGRADE'].copy()\n",
    "team = df[df['player'] == 'PARTIZAN MOZZART BET BELGRADE'].copy()"
   ]
  },
  {
   "cell_type": "code",
   "execution_count": 145,
   "metadata": {},
   "outputs": [
    {
     "name": "stdout",
     "output_type": "stream",
     "text": [
      "Top 5 Players by True Shooting Percentage (TS%):\n",
      "player\n",
      "Lessort Mathias    0.721486\n",
      "Exum Dante         0.671916\n",
      "Punter Kevin       0.623184\n",
      "Smailagic Alen     0.619905\n",
      "Leday Zach         0.587875\n",
      "Name: ts_percentage, dtype: float64\n"
     ]
    }
   ],
   "source": [
    "# calculate True Shooting Percentage (TS%)\n",
    "# formula: TS% = Points / (2 * (FGA + 0.44 * FTA)), where FGA = 2PA + 3PA\n",
    "players['field_goals_attempted'] = players['two_points_attempted'] + players['three_points_attempted']\n",
    "players['ts_percentage'] = players['points'] / (2 * (players['field_goals_attempted'] + 0.44 * players['free_throws_attempted']))\n",
    "\n",
    "# handle division by zero (players with no shot attempts)\n",
    "players['ts_percentage'] = players['ts_percentage'].fillna(0).replace([float('inf'), -float('inf')], 0)\n",
    "\n",
    "# average TS% per player\n",
    "avg_ts = players.groupby('player')['ts_percentage'].mean().sort_values(ascending=False)\n",
    "\n",
    "\n",
    "print(\"Top 5 Players by True Shooting Percentage (TS%):\")\n",
    "print(avg_ts.head())\n"
   ]
  },
  {
   "cell_type": "code",
   "execution_count": 146,
   "metadata": {},
   "outputs": [
    {
     "data": {
      "text/html": [
       "<div>\n",
       "<style scoped>\n",
       "    .dataframe tbody tr th:only-of-type {\n",
       "        vertical-align: middle;\n",
       "    }\n",
       "\n",
       "    .dataframe tbody tr th {\n",
       "        vertical-align: top;\n",
       "    }\n",
       "\n",
       "    .dataframe thead th {\n",
       "        text-align: right;\n",
       "    }\n",
       "</style>\n",
       "<table border=\"1\" class=\"dataframe\">\n",
       "  <thead>\n",
       "    <tr style=\"text-align: right;\">\n",
       "      <th></th>\n",
       "      <th>points_per_32</th>\n",
       "    </tr>\n",
       "    <tr>\n",
       "      <th>player</th>\n",
       "      <th></th>\n",
       "    </tr>\n",
       "  </thead>\n",
       "  <tbody>\n",
       "    <tr>\n",
       "      <th>Punter Kevin</th>\n",
       "      <td>18.341875</td>\n",
       "    </tr>\n",
       "    <tr>\n",
       "      <th>Exum Dante</th>\n",
       "      <td>18.070395</td>\n",
       "    </tr>\n",
       "    <tr>\n",
       "      <th>Smailagic Alen</th>\n",
       "      <td>17.346076</td>\n",
       "    </tr>\n",
       "    <tr>\n",
       "      <th>Lessort Mathias</th>\n",
       "      <td>12.758641</td>\n",
       "    </tr>\n",
       "    <tr>\n",
       "      <th>Avramovic Aleksa</th>\n",
       "      <td>12.523459</td>\n",
       "    </tr>\n",
       "  </tbody>\n",
       "</table>\n",
       "</div>"
      ],
      "text/plain": [
       "                  points_per_32\n",
       "player                         \n",
       "Punter Kevin          18.341875\n",
       "Exum Dante            18.070395\n",
       "Smailagic Alen        17.346076\n",
       "Lessort Mathias       12.758641\n",
       "Avramovic Aleksa      12.523459"
      ]
     },
     "execution_count": 146,
     "metadata": {},
     "output_type": "execute_result"
    }
   ],
   "source": [
    "# calculate Points per 32 Minutes (close to typical starter's minutes)\n",
    "# formula: (Points / Total Seconds) * 1920 (where 1920 seconds = 32 minutes)\n",
    "players['points_per_32'] = (players['points'] / players['total_seconds']) * 1920\n",
    "\n",
    "# handle division by zero (players with 0 seconds)\n",
    "players['points_per_32'] = players['points_per_32'].fillna(0).replace([float('inf'), -float('inf')], 0)\n",
    "\n",
    "# average points per 32 minutes per player\n",
    "avg_points_per_32 = players.groupby('player')['points_per_32'].mean().sort_values(ascending=False)\n",
    "\n",
    "\n",
    "avg_points_per_32 = avg_points_per_32.reset_index()\n",
    "avg_points_per_32.columns = ['player', 'points_per_32']\n",
    "avg_points_per_32.set_index('player', inplace=True)\n",
    "\n",
    "avg_points_per_32.head()"
   ]
  },
  {
   "cell_type": "code",
   "execution_count": 147,
   "metadata": {},
   "outputs": [
    {
     "name": "stdout",
     "output_type": "stream",
     "text": [
      "Top 5 Players by Assist-to-Turnover Ratio (AST/TO):\n",
      "player\n",
      "Exum Dante          1.857456\n",
      "Punter Kevin        1.844144\n",
      "Nunnally James      1.401316\n",
      "Madar Yam           1.391026\n",
      "Avramovic Aleksa    1.201389\n",
      "Name: ast_to_ratio, dtype: float64\n"
     ]
    }
   ],
   "source": [
    "# calculate Assist-to-Turnover Ratio (AST/TO)\n",
    "players['ast_to_ratio'] = players.apply(\n",
    "    lambda row: row['assists'] if row['turnovers'] == 0 else row['assists'] / row['turnovers'], \n",
    "    axis=1\n",
    ")\n",
    "\n",
    "# handle players with 0 turnovers if needed\n",
    "players['ast_to_ratio'] = players['ast_to_ratio'].replace([float('inf'), -float('inf')], 0)\n",
    "\n",
    "# average AST/TO per player\n",
    "avg_ast_to = players.groupby('player')['ast_to_ratio'].mean().sort_values(ascending=False)\n",
    "\n",
    "print(\"Top 5 Players by Assist-to-Turnover Ratio (AST/TO):\")\n",
    "print(avg_ast_to.head())"
   ]
  },
  {
   "cell_type": "markdown",
   "metadata": {},
   "source": [
    "Usage Rate is a fantastic metric because it shows how much of a team’s offensive action a player is responsible for when they’re on the court"
   ]
  },
  {
   "cell_type": "code",
   "execution_count": 148,
   "metadata": {},
   "outputs": [
    {
     "name": "stdout",
     "output_type": "stream",
     "text": [
      "Top 5 Players by Usage Rate (USG%):\n",
      "player\n",
      "Punter Kevin       13.644535\n",
      "Leday Zach         11.260251\n",
      "Lessort Mathias     9.040352\n",
      "Exum Dante          8.773679\n",
      "Nunnally James      6.643273\n",
      "Name: usage_rate, dtype: float64\n"
     ]
    }
   ],
   "source": [
    "# calculate Usage Rate (USG%)\n",
    "# Usage Rate (USG%): Percentage of team possessions used by a player, adjusted for playing time, calculated as:\n",
    "# formula: USG% = 100 * ((FGA + 0.44 * FTA + TO) / (FGA_team + 0.44 * FTA_team + TO_team)) * (TS / 2400)\n",
    "\n",
    "\n",
    "# calculate total shot attempts because of merging below\n",
    "players['field_goals_attempted'] = players['two_points_attempted'] + players['three_points_attempted']\n",
    "team['field_goals_attempted'] = team['two_points_attempted'] + team['three_points_attempted']\n",
    "\n",
    "\n",
    "# merge team stats to players\n",
    "players = players.merge(team[['game', 'field_goals_attempted', 'free_throws_attempted', 'turnovers', 'total_seconds']], \n",
    "                        on='game', suffixes=('', '_team'))\n",
    "\n",
    "# calculate Usage Rate\n",
    "game_seconds = 2400  # 40 minutes * 60 seconds\n",
    "players['usage_rate'] = 100 * ((players['field_goals_attempted'] + 0.44 * players['free_throws_attempted'] + players['turnovers']) /\n",
    "                               (players['field_goals_attempted_team'] + 0.44 * players['free_throws_attempted_team'] + players['turnovers_team'])) * \\\n",
    "                              (players['total_seconds'] / game_seconds)\n",
    "     \n",
    "                                       \n",
    "# handle division by zero (players with no team stats)                              \n",
    "players['usage_rate'] = players['usage_rate'].fillna(0).replace([float('inf'), -float('inf')], 0)\n",
    "\n",
    "# average USG% per player\n",
    "avg_usg = players.groupby('player')['usage_rate'].mean().sort_values(ascending=False)\n",
    "\n",
    "\n",
    "print(\"Top 5 Players by Usage Rate (USG%):\")\n",
    "print(avg_usg.head(5))"
   ]
  },
  {
   "cell_type": "code",
   "execution_count": 171,
   "metadata": {},
   "outputs": [
    {
     "name": "stdout",
     "output_type": "stream",
     "text": [
      "Top 5 Players by Points per Possession (PPP):\n",
      "player\n",
      "Lessort Mathias    1.232044\n",
      "Exum Dante         1.146356\n",
      "Punter Kevin       1.126225\n",
      "Smailagic Alen     1.123254\n",
      "Leday Zach         1.062734\n",
      "Name: points_per_possession, dtype: float64\n"
     ]
    }
   ],
   "source": [
    "# points per possession (PPP)\n",
    "# Scoring efficiency per possession used, highlighting players who maximize points from their offensive opportunities.\n",
    "# formula: PPP = Points / (FGA + 0.44 * FTA + TO)\n",
    "players['field_goals_attempted'] = players['two_points_attempted'] + players['three_points_attempted']\n",
    "players['possessions_used'] = players['field_goals_attempted'] + 0.44 * players['free_throws_attempted'] + players['turnovers']\n",
    "players['points_per_possession'] = players['points'] / players['possessions_used']\n",
    "\n",
    "\n",
    "# handle division by zero (players with no possessions used)\n",
    "players['points_per_possession'] = players['points_per_possession'].fillna(0).replace([float('inf'), -float('inf')], 0)\n",
    "\n",
    "\n",
    "# average PPP per player\n",
    "avg_PPP = players.groupby('player')['points_per_possession'].mean().sort_values(ascending=False)\n",
    "\n",
    "\n",
    "print(\"Top 5 Players by Points per Possession (PPP):\")\n",
    "print(avg_PPP.head(5))"
   ]
  },
  {
   "cell_type": "code",
   "execution_count": 170,
   "metadata": {},
   "outputs": [
    {
     "name": "stdout",
     "output_type": "stream",
     "text": [
      "1.1232538908978038\n"
     ]
    }
   ],
   "source": [
    "print(players[players['player'] == 'Smailagic Alen']['points_per_possession'].mean())"
   ]
  },
  {
   "cell_type": "code",
   "execution_count": 151,
   "metadata": {},
   "outputs": [
    {
     "name": "stdout",
     "output_type": "stream",
     "text": [
      "Top 5 Players by Points per Possession (PPP):\n",
      "player\n",
      "Lessort Mathias    1.235191\n",
      "Smailagic Alen     1.193479\n",
      "Punter Kevin       1.159680\n",
      "Exum Dante         1.149233\n",
      "Leday Zach         1.073341\n",
      "Name: points_per_possession, dtype: float64\n",
      "\n",
      "Smailagic Alen PPP Check:\n",
      "1.1934786790599137\n"
     ]
    }
   ],
   "source": [
    "# Recalculate PPP fresh\n",
    "players['field_goals_attempted'] = players['two_points_attempted'] + players['three_points_attempted']\n",
    "players['possessions_used'] = players['field_goals_attempted'] + 0.44 * players['free_throws_attempted'] + players['turnovers']\n",
    "players['points_per_possession'] = players['points'] / players['possessions_used']\n",
    "players['points_per_possession'] = players['points_per_possession'].fillna(0).replace([float('inf'), -float('inf')], 0)\n",
    "\n",
    "# Average PPP per player\n",
    "avg_PPP = players.groupby('player')['points_per_possession'].mean().sort_values(ascending=False)\n",
    "print(\"Top 5 Players by Points per Possession (PPP):\")\n",
    "print(avg_PPP.head(5))\n",
    "\n",
    "# Confirm Smailagic\n",
    "print(\"\\nSmailagic Alen PPP Check:\")\n",
    "print(players[players['player'] == 'Smailagic Alen']['points_per_possession'].mean())"
   ]
  },
  {
   "cell_type": "code",
   "execution_count": 152,
   "metadata": {},
   "outputs": [
    {
     "name": "stdout",
     "output_type": "stream",
     "text": [
      "Top 5 Players by Rebound Rate:\n",
      "player\n",
      "Lessort Mathias    14.053764\n",
      "Leday Zach         12.765595\n",
      "Punter Kevin        6.894055\n",
      "Nunnally James      5.106059\n",
      "Exum Dante          4.971516\n",
      "Name: rebound_rate, dtype: float64\n"
     ]
    }
   ],
   "source": [
    "# calculate Rebound Rate\n",
    "# formula: Rebound Rate = 100 * (Player Total Rebounds / Team Total Rebounds) * (Player Total Seconds / game_seconds)\n",
    "# Rebound Rate (REB%): Percentage of team rebounds secured, adjusted for playing time\n",
    "\n",
    "# merge team stats to players \n",
    "players = players.merge(team[['game', 'total_rebounds']], on='game', suffixes=('', '_team'))\n",
    "\n",
    "\n",
    "# calculate Rebound Rate\n",
    "game_seconds = 2400  # 40 minutes * 60 seconds\n",
    "players['rebound_rate'] = 100 * (players['total_rebounds'] / players['total_rebounds_team']) * (players['total_seconds'] / game_seconds)\n",
    "\n",
    "\n",
    "# handle division by zero (players with no team stats)\n",
    "players['rebound_rate'] = players['rebound_rate'].fillna(0).replace([float('inf'), -float('inf')], 0)\n",
    "\n",
    "# average Rebound Rate per player\n",
    "avg_rr = players.groupby('player')['rebound_rate'].mean().sort_values(ascending=False)\n",
    "\n",
    "print(\"Top 5 Players by Rebound Rate:\") \n",
    "print(avg_rr.head(5))\n"
   ]
  }
 ],
 "metadata": {
  "kernelspec": {
   "display_name": "python_developer",
   "language": "python",
   "name": "python3"
  },
  "language_info": {
   "codemirror_mode": {
    "name": "ipython",
    "version": 3
   },
   "file_extension": ".py",
   "mimetype": "text/x-python",
   "name": "python",
   "nbconvert_exporter": "python",
   "pygments_lexer": "ipython3",
   "version": "3.11.10"
  }
 },
 "nbformat": 4,
 "nbformat_minor": 2
}
