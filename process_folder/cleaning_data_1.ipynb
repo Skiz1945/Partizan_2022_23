{
 "cells": [
  {
   "cell_type": "code",
   "execution_count": 1,
   "metadata": {},
   "outputs": [],
   "source": [
    "import pandas as pd\n",
    "\n",
    "file_path = r\"C:\\Users\\User\\OneDrive\\Desktop\\python_developer\\partizan_2022\\partizan_2022_cleaning.csv\"\n",
    "\n",
    "df = pd.read_csv(file_path)"
   ]
  },
  {
   "cell_type": "code",
   "execution_count": null,
   "metadata": {},
   "outputs": [
    {
     "name": "stderr",
     "output_type": "stream",
     "text": [
      "C:\\Users\\User\\AppData\\Local\\Temp\\ipykernel_10596\\2480008758.py:4: FutureWarning: A value is trying to be set on a copy of a DataFrame or Series through chained assignment using an inplace method.\n",
      "The behavior will change in pandas 3.0. This inplace method will never work because the intermediate object on which we are setting values always behaves as a copy.\n",
      "\n",
      "For example, when doing 'df[col].method(value, inplace=True)', try using 'df.method({col: value}, inplace=True)' or df[col] = df[col].method(value) instead, to perform the operation inplace on the original object.\n",
      "\n",
      "\n",
      "  df['minutes'].replace('', pd.NA, inplace=True)\n",
      "C:\\Users\\User\\AppData\\Local\\Temp\\ipykernel_10596\\2480008758.py:6: FutureWarning: A value is trying to be set on a copy of a DataFrame or Series through chained assignment using an inplace method.\n",
      "The behavior will change in pandas 3.0. This inplace method will never work because the intermediate object on which we are setting values always behaves as a copy.\n",
      "\n",
      "For example, when doing 'df[col].method(value, inplace=True)', try using 'df.method({col: value}, inplace=True)' or df[col] = df[col].method(value) instead, to perform the operation inplace on the original object.\n",
      "\n",
      "\n",
      "  df['minutes'].replace('DNP', pd.NA, inplace=True)\n",
      "C:\\Users\\User\\AppData\\Local\\Temp\\ipykernel_10596\\2480008758.py:8: FutureWarning: A value is trying to be set on a copy of a DataFrame or Series through chained assignment using an inplace method.\n",
      "The behavior will change in pandas 3.0. This inplace method will never work because the intermediate object on which we are setting values always behaves as a copy.\n",
      "\n",
      "For example, when doing 'df[col].method(value, inplace=True)', try using 'df.method({col: value}, inplace=True)' or df[col] = df[col].method(value) instead, to perform the operation inplace on the original object.\n",
      "\n",
      "\n",
      "  df['minutes'].fillna('00:00', inplace=True)\n"
     ]
    }
   ],
   "source": [
    "# Creating a new column 'total_seconds' from 'minutes' column\n",
    "\n",
    "# Replace empty strings with NaN \n",
    "df['minutes'].replace('', pd.NA, inplace=True)\n",
    "# Replace 'DNP' with NaN\n",
    "df['minutes'].replace('DNP', pd.NA, inplace=True)\n",
    "# Fill missing values with a default value ('00:00')\n",
    "df['minutes'].fillna('00:00', inplace=True)\n",
    "  \n",
    "# Function to convert MM:SS to total seconds (int)\n",
    "def mm_ss_to_seconds(time_str):\n",
    "    try:\n",
    "        minutes, seconds = map(int, time_str.split(':'))\n",
    "        return (minutes * 60) + seconds  # Convert minutes to seconds and add seconds\n",
    "    except (ValueError, AttributeError):\n",
    "        return None  # Handle invalid or missing values\n",
    "\n",
    "# Apply the function to the column\n",
    "df['total_seconds'] = df['minutes'].apply(mm_ss_to_seconds)\n",
    "\n"
   ]
  },
  {
   "cell_type": "code",
   "execution_count": null,
   "metadata": {},
   "outputs": [
    {
     "name": "stdout",
     "output_type": "stream",
     "text": [
      "Missing values in all columns:\n",
      "game                      0\n",
      "round                     0\n",
      "phase                     0\n",
      "is_starter                0\n",
      "is_playing                0\n",
      "player                    0\n",
      "minutes                   0\n",
      "points                    0\n",
      "two_points_made           0\n",
      "two_points_attempted      0\n",
      "three_points_made         0\n",
      "three_points_attempted    0\n",
      "free_throws_made          0\n",
      "free_throws_attempted     0\n",
      "offensive_rebounds        0\n",
      "defensive_rebounds        0\n",
      "total_rebounds            0\n",
      "assists                   0\n",
      "steals                    0\n",
      "turnovers                 0\n",
      "blocks_favour             0\n",
      "blocks_against            0\n",
      "fouls_committed           0\n",
      "fouls_received            0\n",
      "valuation                 0\n",
      "plus_minus                0\n",
      "total_seconds             0\n",
      "dtype: int64\n"
     ]
    }
   ],
   "source": [
    "# Check for missing values \n",
    "missing_values_all = df.isnull().sum()\n",
    "print(\"Missing values in all columns:\")\n",
    "print(missing_values_all)"
   ]
  },
  {
   "cell_type": "code",
   "execution_count": 4,
   "metadata": {},
   "outputs": [
    {
     "name": "stdout",
     "output_type": "stream",
     "text": [
      "<class 'pandas.core.frame.DataFrame'>\n",
      "RangeIndex: 500 entries, 0 to 499\n",
      "Data columns (total 27 columns):\n",
      " #   Column                  Non-Null Count  Dtype \n",
      "---  ------                  --------------  ----- \n",
      " 0   game                    500 non-null    object\n",
      " 1   round                   500 non-null    int64 \n",
      " 2   phase                   500 non-null    object\n",
      " 3   is_starter              500 non-null    bool  \n",
      " 4   is_playing              500 non-null    bool  \n",
      " 5   player                  500 non-null    object\n",
      " 6   minutes                 500 non-null    object\n",
      " 7   points                  500 non-null    int64 \n",
      " 8   two_points_made         500 non-null    int64 \n",
      " 9   two_points_attempted    500 non-null    int64 \n",
      " 10  three_points_made       500 non-null    int64 \n",
      " 11  three_points_attempted  500 non-null    int64 \n",
      " 12  free_throws_made        500 non-null    int64 \n",
      " 13  free_throws_attempted   500 non-null    int64 \n",
      " 14  offensive_rebounds      500 non-null    int64 \n",
      " 15  defensive_rebounds      500 non-null    int64 \n",
      " 16  total_rebounds          500 non-null    int64 \n",
      " 17  assists                 500 non-null    int64 \n",
      " 18  steals                  500 non-null    int64 \n",
      " 19  turnovers               500 non-null    int64 \n",
      " 20  blocks_favour           500 non-null    int64 \n",
      " 21  blocks_against          500 non-null    int64 \n",
      " 22  fouls_committed         500 non-null    int64 \n",
      " 23  fouls_received          500 non-null    int64 \n",
      " 24  valuation               500 non-null    int64 \n",
      " 25  plus_minus              500 non-null    int64 \n",
      " 26  total_seconds           500 non-null    int64 \n",
      "dtypes: bool(2), int64(21), object(4)\n",
      "memory usage: 98.8+ KB\n",
      "None\n"
     ]
    }
   ],
   "source": [
    "print(df.info())"
   ]
  },
  {
   "cell_type": "code",
   "execution_count": null,
   "metadata": {},
   "outputs": [],
   "source": [
    "# save the cleaned data to a new file (Excel format)\n",
    "df.to_excel(\"partizan_2022_cleaning_1.xlsx\", index=False)\n",
    "print(\"Data saved to 'partizan_2022_cleaning_1.xlsx'\")\n"
   ]
  },
  {
   "cell_type": "code",
   "execution_count": 4,
   "metadata": {},
   "outputs": [
    {
     "name": "stdout",
     "output_type": "stream",
     "text": [
      "Data saved to 'partizan_2022_cleaning_1.csv'\n"
     ]
    }
   ],
   "source": [
    "# save the cleaned data to a new file (CSV format)\n",
    "df.to_csv(\"partizan_2022_cleaning_1.csv\", index=False)\n",
    "print(\"Data saved to 'partizan_2022_cleaning_1.csv'\")"
   ]
  }
 ],
 "metadata": {
  "kernelspec": {
   "display_name": "python_developer",
   "language": "python",
   "name": "python3"
  },
  "language_info": {
   "codemirror_mode": {
    "name": "ipython",
    "version": 3
   },
   "file_extension": ".py",
   "mimetype": "text/x-python",
   "name": "python",
   "nbconvert_exporter": "python",
   "pygments_lexer": "ipython3",
   "version": "3.11.10"
  }
 },
 "nbformat": 4,
 "nbformat_minor": 2
}
