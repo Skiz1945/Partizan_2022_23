{
 "cells": [
  {
   "cell_type": "code",
   "execution_count": 2,
   "metadata": {},
   "outputs": [],
   "source": [
    "import pandas as pd\n",
    "\n",
    "file_path = 'C:\\\\Users\\\\User\\\\OneDrive\\\\Desktop\\\\python_developer\\\\partizan_2022\\\\data\\\\partizan_2022_raw.csv'\n",
    "\n",
    "df = pd.read_csv(file_path)"
   ]
  },
  {
   "cell_type": "code",
   "execution_count": 3,
   "metadata": {},
   "outputs": [
    {
     "name": "stdout",
     "output_type": "stream",
     "text": [
      "<class 'pandas.core.frame.DataFrame'>\n",
      "RangeIndex: 500 entries, 0 to 499\n",
      "Data columns (total 32 columns):\n",
      " #   Column                  Non-Null Count  Dtype  \n",
      "---  ------                  --------------  -----  \n",
      " 0   game_player_id          500 non-null    object \n",
      " 1   game_id                 500 non-null    object \n",
      " 2   game                    500 non-null    object \n",
      " 3   round                   500 non-null    int64  \n",
      " 4   phase                   500 non-null    object \n",
      " 5   season_code             500 non-null    object \n",
      " 6   player_id               500 non-null    object \n",
      " 7   is_starter              500 non-null    float64\n",
      " 8   is_playing              500 non-null    float64\n",
      " 9   team_id                 500 non-null    object \n",
      " 10  dorsal                  500 non-null    object \n",
      " 11  player                  500 non-null    object \n",
      " 12  minutes                 498 non-null    object \n",
      " 13  points                  500 non-null    int64  \n",
      " 14  two_points_made         500 non-null    int64  \n",
      " 15  two_points_attempted    500 non-null    int64  \n",
      " 16  three_points_made       500 non-null    int64  \n",
      " 17  three_points_attempted  500 non-null    int64  \n",
      " 18  free_throws_made        500 non-null    int64  \n",
      " 19  free_throws_attempted   500 non-null    int64  \n",
      " 20  offensive_rebounds      500 non-null    int64  \n",
      " 21  defensive_rebounds      500 non-null    int64  \n",
      " 22  total_rebounds          500 non-null    int64  \n",
      " 23  assists                 500 non-null    int64  \n",
      " 24  steals                  500 non-null    int64  \n",
      " 25  turnovers               500 non-null    int64  \n",
      " 26  blocks_favour           500 non-null    int64  \n",
      " 27  blocks_against          500 non-null    int64  \n",
      " 28  fouls_committed         500 non-null    int64  \n",
      " 29  fouls_received          500 non-null    int64  \n",
      " 30  valuation               500 non-null    int64  \n",
      " 31  plus_minus              500 non-null    int64  \n",
      "dtypes: float64(2), int64(20), object(10)\n",
      "memory usage: 125.1+ KB\n"
     ]
    }
   ],
   "source": [
    "df.info()"
   ]
  },
  {
   "cell_type": "code",
   "execution_count": null,
   "metadata": {},
   "outputs": [
    {
     "data": {
      "text/plain": [
       "Index(['game_player_id', 'game_id', 'game', 'round', 'phase', 'season_code',\n",
       "       'player_id', 'is_starter', 'is_playing', 'team_id', 'dorsal', 'player',\n",
       "       'minutes', 'points', 'two_points_made', 'two_points_attempted',\n",
       "       'three_points_made', 'three_points_attempted', 'free_throws_made',\n",
       "       'free_throws_attempted', 'offensive_rebounds', 'defensive_rebounds',\n",
       "       'total_rebounds', 'assists', 'steals', 'turnovers', 'blocks_favour',\n",
       "       'blocks_against', 'fouls_committed', 'fouls_received', 'valuation',\n",
       "       'plus_minus'],\n",
       "      dtype='object')"
      ]
     },
     "execution_count": 5,
     "metadata": {},
     "output_type": "execute_result"
    }
   ],
   "source": [
    "df.columns "
   ]
  },
  {
   "cell_type": "code",
   "execution_count": 6,
   "metadata": {},
   "outputs": [],
   "source": [
    "# Replace player names\n",
    "\n",
    "df['player'] = df['player'].replace({\n",
    "    'MADAR, YAM' : 'Madar Yam',\n",
    "    'LEDAY, ZACH' : 'Leday Zach',\n",
    "    'TRIFUNOVIC, UROS' : 'Trifunovic Uros',\n",
    "    'NUNNALLY, JAMES WILLIAM' : 'Nunnally James',\n",
    "    'ANDUSIC, DANILO' : 'Andjusic Danilo',\n",
    "    'EXUM, DANTE LIMAN' : 'Exum Dante',\n",
    "    'LESSORT, MATHIAS' : 'Lessort Mathias',\n",
    "    'PAPAPETROU, IOANNIS' : 'Papapetrou Ioannis',\n",
    "    'PUNTER, KEVIN  XAVIER' : 'Punter Kevin',\n",
    "    'VUKCEVIC, TRISTAN' : 'Vukcevic Tristan',\n",
    "    'SMAILAGIC, ALEN' : 'Smailagic Alen',\n",
    "    'AVRAMOVIC, ALEKSA' : 'Avramovic Aleksa',\n",
    "    'GLAS, GREGOR' : 'Glas Gregor',\n",
    "    'KOPRIVICA, BALSA' : 'Koprivica Balsa',\n",
    "    'BRODZIANSKY, VLADIMIR' : 'Brodziansky Vladimir',\n",
    "    'JOVANOVIC, DORDIJE' : 'Jovanovic Dordje',\n",
    "})"
   ]
  },
  {
   "cell_type": "code",
   "execution_count": 7,
   "metadata": {},
   "outputs": [
    {
     "data": {
      "text/plain": [
       "player\n",
       "Madar Yam                        39\n",
       "Leday Zach                       39\n",
       "PARTIZAN MOZZART BET BELGRADE    39\n",
       "Trifunovic Uros                  38\n",
       "Nunnally James                   38\n",
       "Andjusic Danilo                  38\n",
       "Exum Dante                       38\n",
       "Lessort Mathias                  38\n",
       "Papapetrou Ioannis               38\n",
       "Punter Kevin                     37\n",
       "Vukcevic Tristan                 36\n",
       "Smailagic Alen                   30\n",
       "Avramovic Aleksa                 24\n",
       "Glas Gregor                      10\n",
       "Koprivica Balsa                   9\n",
       "Brodziansky Vladimir              6\n",
       "Jovanovic Dordje                  3\n",
       "Name: count, dtype: int64"
      ]
     },
     "execution_count": 7,
     "metadata": {},
     "output_type": "execute_result"
    }
   ],
   "source": [
    "# Check for changes in player names\n",
    "\n",
    "df['player'].value_counts()"
   ]
  },
  {
   "cell_type": "code",
   "execution_count": 8,
   "metadata": {},
   "outputs": [],
   "source": [
    "# Drop unnecessary columns\n",
    "\n",
    "df = df.drop(columns=['player_id', 'game_player_id', 'game_id', 'season_code', 'team_id', 'dorsal'])"
   ]
  },
  {
   "cell_type": "code",
   "execution_count": 9,
   "metadata": {},
   "outputs": [
    {
     "name": "stdout",
     "output_type": "stream",
     "text": [
      "<class 'pandas.core.frame.DataFrame'>\n",
      "RangeIndex: 500 entries, 0 to 499\n",
      "Data columns (total 26 columns):\n",
      " #   Column                  Non-Null Count  Dtype  \n",
      "---  ------                  --------------  -----  \n",
      " 0   game                    500 non-null    object \n",
      " 1   round                   500 non-null    int64  \n",
      " 2   phase                   500 non-null    object \n",
      " 3   is_starter              500 non-null    float64\n",
      " 4   is_playing              500 non-null    float64\n",
      " 5   player                  500 non-null    object \n",
      " 6   minutes                 498 non-null    object \n",
      " 7   points                  500 non-null    int64  \n",
      " 8   two_points_made         500 non-null    int64  \n",
      " 9   two_points_attempted    500 non-null    int64  \n",
      " 10  three_points_made       500 non-null    int64  \n",
      " 11  three_points_attempted  500 non-null    int64  \n",
      " 12  free_throws_made        500 non-null    int64  \n",
      " 13  free_throws_attempted   500 non-null    int64  \n",
      " 14  offensive_rebounds      500 non-null    int64  \n",
      " 15  defensive_rebounds      500 non-null    int64  \n",
      " 16  total_rebounds          500 non-null    int64  \n",
      " 17  assists                 500 non-null    int64  \n",
      " 18  steals                  500 non-null    int64  \n",
      " 19  turnovers               500 non-null    int64  \n",
      " 20  blocks_favour           500 non-null    int64  \n",
      " 21  blocks_against          500 non-null    int64  \n",
      " 22  fouls_committed         500 non-null    int64  \n",
      " 23  fouls_received          500 non-null    int64  \n",
      " 24  valuation               500 non-null    int64  \n",
      " 25  plus_minus              500 non-null    int64  \n",
      "dtypes: float64(2), int64(20), object(4)\n",
      "memory usage: 101.7+ KB\n"
     ]
    }
   ],
   "source": [
    "df.info()"
   ]
  },
  {
   "cell_type": "code",
   "execution_count": 10,
   "metadata": {},
   "outputs": [],
   "source": [
    "# Convert float64 with (1.0 and 0.0 values) to bool (True and False)\n",
    "\n",
    "df['is_starter'] = df['is_starter'].astype(bool)\n",
    "df['is_playing'] = df['is_playing'].astype(bool)"
   ]
  },
  {
   "cell_type": "code",
   "execution_count": 33,
   "metadata": {},
   "outputs": [],
   "source": [
    "df.to_csv('partizan_2022_cleaning.csv', index=False)"
   ]
  }
 ],
 "metadata": {
  "kernelspec": {
   "display_name": "python_developer",
   "language": "python",
   "name": "python3"
  },
  "language_info": {
   "codemirror_mode": {
    "name": "ipython",
    "version": 3
   },
   "file_extension": ".py",
   "mimetype": "text/x-python",
   "name": "python",
   "nbconvert_exporter": "python",
   "pygments_lexer": "ipython3",
   "version": "3.11.10"
  }
 },
 "nbformat": 4,
 "nbformat_minor": 2
}
