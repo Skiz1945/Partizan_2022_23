{
 "cells": [
  {
   "cell_type": "code",
   "execution_count": 33,
   "metadata": {},
   "outputs": [],
   "source": [
    "import pandas as pd\n",
    "\n",
    "file_path = 'C:\\\\Users\\\\User\\\\OneDrive\\\\Desktop\\\\python_developer\\\\partizan_2022\\\\data\\\\partizan_2022_cleaned.csv'\n",
    "\n",
    "df = pd.read_csv(file_path)"
   ]
  },
  {
   "cell_type": "code",
   "execution_count": 34,
   "metadata": {},
   "outputs": [],
   "source": [
    "# filter \n",
    "players = df[df['player'] != 'PARTIZAN MOZZART BET BELGRADE'].copy()\n",
    "team = df[df['player'] == 'PARTIZAN MOZZART BET BELGRADE'].copy()"
   ]
  },
  {
   "cell_type": "code",
   "execution_count": 35,
   "metadata": {},
   "outputs": [
    {
     "name": "stdout",
     "output_type": "stream",
     "text": [
      "Top 5 Players by Points per Possession (PPP):\n",
      "player\n",
      "Lessort Mathias    1.232044\n",
      "Exum Dante         1.146356\n",
      "Punter Kevin       1.126225\n",
      "Smailagic Alen     1.123254\n",
      "Leday Zach         1.062734\n",
      "Name: points_per_possession, dtype: float64\n"
     ]
    }
   ],
   "source": [
    "# points per possession (PPP)\n",
    "# Scoring efficiency per possession used, highlighting players who maximize points from their offensive opportunities.\n",
    "# formula: PPP = Points / (FGA + 0.44 * FTA + TO)\n",
    "players['field_goals_attempted'] = players['two_points_attempted'] + players['three_points_attempted']\n",
    "players['possessions_used'] = players['field_goals_attempted'] + 0.44 * players['free_throws_attempted'] + players['turnovers']\n",
    "players['points_per_possession'] = players['points'] / players['possessions_used']\n",
    "\n",
    "\n",
    "# handle division by zero (players with no possessions used)\n",
    "players['points_per_possession'] = players['points_per_possession'].fillna(0).replace([float('inf'), -float('inf')], 0)\n",
    "\n",
    "\n",
    "# average PPP per player\n",
    "avg_PPP = players.groupby('player')['points_per_possession'].mean().sort_values(ascending=False)\n",
    "\n",
    "\n",
    "print(\"Top 5 Players by Points per Possession (PPP):\")\n",
    "print(avg_PPP.head(5))"
   ]
  },
  {
   "cell_type": "code",
   "execution_count": 52,
   "metadata": {},
   "outputs": [
    {
     "name": "stdout",
     "output_type": "stream",
     "text": [
      "points                   6.222222\n",
      "field_goals_attempted    3.822222\n",
      "free_throws_attempted    1.244444\n",
      "turnovers                0.555556\n",
      "points_per_possession    1.193479\n",
      "dtype: float64\n"
     ]
    }
   ],
   "source": [
    "# Verify Smailagic \n",
    "smailagic = players[players['player'] == 'Smailagic Alen']\n",
    "print(smailagic[['points', 'field_goals_attempted', 'free_throws_attempted', 'turnovers', 'points_per_possession']].mean())"
   ]
  },
  {
   "cell_type": "code",
   "execution_count": 37,
   "metadata": {},
   "outputs": [
    {
     "name": "stdout",
     "output_type": "stream",
     "text": [
      "Top 5 Players by Usage Rate (USG%):\n",
      "player\n",
      "Punter Kevin       13.644535\n",
      "Leday Zach         11.260251\n",
      "Lessort Mathias     9.040352\n",
      "Exum Dante          8.773679\n",
      "Nunnally James      6.643273\n",
      "Name: usage_rate, dtype: float64\n"
     ]
    }
   ],
   "source": [
    "# calculate Usage Rate (USG%)\n",
    "# Usage Rate (USG%): Percentage of team possessions used by a player, adjusted for playing time, calculated as:\n",
    "# formula: USG% = 100 * ((FGA + 0.44 * FTA + TO) / (FGA_team + 0.44 * FTA_team + TO_team)) * (TS / 2400)\n",
    "\n",
    "\n",
    "# calculate total shot attempts because of merging below\n",
    "players['field_goals_attempted'] = players['two_points_attempted'] + players['three_points_attempted']\n",
    "team['field_goals_attempted'] = team['two_points_attempted'] + team['three_points_attempted']\n",
    "\n",
    "\n",
    "# merge team stats to players\n",
    "players = players.merge(team[['game', 'field_goals_attempted', 'free_throws_attempted', 'turnovers', 'total_seconds']], \n",
    "                        on='game', suffixes=('', '_team'))\n",
    "\n",
    "# calculate Usage Rate\n",
    "game_seconds = 2400  # 40 minutes * 60 seconds\n",
    "players['usage_rate'] = 100 * ((players['field_goals_attempted'] + 0.44 * players['free_throws_attempted'] + players['turnovers']) /\n",
    "                               (players['field_goals_attempted_team'] + 0.44 * players['free_throws_attempted_team'] + players['turnovers_team'])) * \\\n",
    "                              (players['total_seconds'] / game_seconds)\n",
    "     \n",
    "                                       \n",
    "# handle division by zero (players with no team stats)                              \n",
    "players['usage_rate'] = players['usage_rate'].fillna(0).replace([float('inf'), -float('inf')], 0)\n",
    "\n",
    "# average USG% per player\n",
    "avg_usg = players.groupby('player')['usage_rate'].mean().sort_values(ascending=False)\n",
    "\n",
    "\n",
    "print(\"Top 5 Players by Usage Rate (USG%):\")\n",
    "print(avg_usg.head(5))"
   ]
  },
  {
   "cell_type": "code",
   "execution_count": null,
   "metadata": {},
   "outputs": [],
   "source": [
    "\n"
   ]
  }
 ],
 "metadata": {
  "kernelspec": {
   "display_name": "python_developer",
   "language": "python",
   "name": "python3"
  },
  "language_info": {
   "codemirror_mode": {
    "name": "ipython",
    "version": 3
   },
   "file_extension": ".py",
   "mimetype": "text/x-python",
   "name": "python",
   "nbconvert_exporter": "python",
   "pygments_lexer": "ipython3",
   "version": "3.11.10"
  }
 },
 "nbformat": 4,
 "nbformat_minor": 2
}
