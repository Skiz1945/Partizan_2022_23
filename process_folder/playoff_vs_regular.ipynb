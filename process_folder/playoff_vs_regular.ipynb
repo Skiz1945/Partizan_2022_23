{
 "cells": [
  {
   "cell_type": "code",
   "execution_count": 6,
   "metadata": {},
   "outputs": [],
   "source": [
    "import pandas as pd\n",
    "\n",
    "file_path = 'C:\\\\Users\\\\User\\\\OneDrive\\\\Desktop\\\\python_developer\\\\partizan_2022\\\\data\\\\partizan_2022_cleaned.csv'\n",
    "\n",
    "df = pd.read_csv(file_path)"
   ]
  },
  {
   "cell_type": "markdown",
   "metadata": {},
   "source": [
    "### Play-off vs Regular Season\n",
    "\n",
    "Compare player performances between the regular season and playoffs to identify who steps up or struggles under postseason pressure."
   ]
  },
  {
   "cell_type": "code",
   "execution_count": 2,
   "metadata": {},
   "outputs": [],
   "source": [
    "# filter \n",
    "players = df[df['player'] != 'PARTIZAN MOZZART BET BELGRADE'].copy()\n",
    "team = df[df['player'] == 'PARTIZAN MOZZART BET BELGRADE'].copy()"
   ]
  },
  {
   "cell_type": "code",
   "execution_count": 4,
   "metadata": {},
   "outputs": [
    {
     "data": {
      "text/plain": [
       "phase\n",
       "REGULAR SEASON    437\n",
       "PLAYOFFS           63\n",
       "Name: count, dtype: int64"
      ]
     },
     "execution_count": 4,
     "metadata": {},
     "output_type": "execute_result"
    }
   ],
   "source": [
    "df['phase'].value_counts()"
   ]
  },
  {
   "cell_type": "code",
   "execution_count": 5,
   "metadata": {},
   "outputs": [
    {
     "ename": "KeyError",
     "evalue": "\"['field_goals_attempted'] not in index\"",
     "output_type": "error",
     "traceback": [
      "\u001b[1;31m---------------------------------------------------------------------------\u001b[0m",
      "\u001b[1;31mKeyError\u001b[0m                                  Traceback (most recent call last)",
      "Cell \u001b[1;32mIn[5], line 51\u001b[0m\n\u001b[0;32m     49\u001b[0m team_regular \u001b[38;5;241m=\u001b[39m team[team[\u001b[38;5;124m'\u001b[39m\u001b[38;5;124mphase\u001b[39m\u001b[38;5;124m'\u001b[39m] \u001b[38;5;241m==\u001b[39m \u001b[38;5;124m'\u001b[39m\u001b[38;5;124mregular season\u001b[39m\u001b[38;5;124m'\u001b[39m]\u001b[38;5;241m.\u001b[39mcopy()\n\u001b[0;32m     50\u001b[0m team_playoffs \u001b[38;5;241m=\u001b[39m team[team[\u001b[38;5;124m'\u001b[39m\u001b[38;5;124mphase\u001b[39m\u001b[38;5;124m'\u001b[39m] \u001b[38;5;241m==\u001b[39m \u001b[38;5;124m'\u001b[39m\u001b[38;5;124mplayoffs\u001b[39m\u001b[38;5;124m'\u001b[39m]\u001b[38;5;241m.\u001b[39mcopy()\n\u001b[1;32m---> 51\u001b[0m regular_season \u001b[38;5;241m=\u001b[39m \u001b[43mcalculate_metrics\u001b[49m\u001b[43m(\u001b[49m\u001b[43mregular_season\u001b[49m\u001b[43m,\u001b[49m\u001b[43m \u001b[49m\u001b[43mteam_regular\u001b[49m\u001b[43m)\u001b[49m\n\u001b[0;32m     52\u001b[0m playoffs \u001b[38;5;241m=\u001b[39m calculate_metrics(playoffs, team_playoffs)\n\u001b[0;32m     54\u001b[0m \u001b[38;5;66;03m# Aggregate by player\u001b[39;00m\n",
      "Cell \u001b[1;32mIn[5], line 33\u001b[0m, in \u001b[0;36mcalculate_metrics\u001b[1;34m(df, team_df)\u001b[0m\n\u001b[0;32m     27\u001b[0m df[\u001b[38;5;124m'\u001b[39m\u001b[38;5;124mast_to_ratio\u001b[39m\u001b[38;5;124m'\u001b[39m] \u001b[38;5;241m=\u001b[39m df\u001b[38;5;241m.\u001b[39mapply(\n\u001b[0;32m     28\u001b[0m     \u001b[38;5;28;01mlambda\u001b[39;00m row: row[\u001b[38;5;124m'\u001b[39m\u001b[38;5;124massists\u001b[39m\u001b[38;5;124m'\u001b[39m] \u001b[38;5;28;01mif\u001b[39;00m row[\u001b[38;5;124m'\u001b[39m\u001b[38;5;124mturnovers\u001b[39m\u001b[38;5;124m'\u001b[39m] \u001b[38;5;241m==\u001b[39m \u001b[38;5;241m0\u001b[39m \u001b[38;5;28;01melse\u001b[39;00m row[\u001b[38;5;124m'\u001b[39m\u001b[38;5;124massists\u001b[39m\u001b[38;5;124m'\u001b[39m] \u001b[38;5;241m/\u001b[39m row[\u001b[38;5;124m'\u001b[39m\u001b[38;5;124mturnovers\u001b[39m\u001b[38;5;124m'\u001b[39m], \n\u001b[0;32m     29\u001b[0m     axis\u001b[38;5;241m=\u001b[39m\u001b[38;5;241m1\u001b[39m\n\u001b[0;32m     30\u001b[0m )\n\u001b[0;32m     32\u001b[0m \u001b[38;5;66;03m# USG%\u001b[39;00m\n\u001b[1;32m---> 33\u001b[0m df \u001b[38;5;241m=\u001b[39m df\u001b[38;5;241m.\u001b[39mmerge(\u001b[43mteam_df\u001b[49m\u001b[43m[\u001b[49m\u001b[43m[\u001b[49m\u001b[38;5;124;43m'\u001b[39;49m\u001b[38;5;124;43mgame\u001b[39;49m\u001b[38;5;124;43m'\u001b[39;49m\u001b[43m,\u001b[49m\u001b[43m \u001b[49m\u001b[38;5;124;43m'\u001b[39;49m\u001b[38;5;124;43mfield_goals_attempted\u001b[39;49m\u001b[38;5;124;43m'\u001b[39;49m\u001b[43m,\u001b[49m\u001b[43m \u001b[49m\u001b[38;5;124;43m'\u001b[39;49m\u001b[38;5;124;43mfree_throws_attempted\u001b[39;49m\u001b[38;5;124;43m'\u001b[39;49m\u001b[43m,\u001b[49m\u001b[43m \u001b[49m\u001b[38;5;124;43m'\u001b[39;49m\u001b[38;5;124;43mturnovers\u001b[39;49m\u001b[38;5;124;43m'\u001b[39;49m\u001b[43m,\u001b[49m\u001b[43m \u001b[49m\u001b[38;5;124;43m'\u001b[39;49m\u001b[38;5;124;43mtotal_seconds\u001b[39;49m\u001b[38;5;124;43m'\u001b[39;49m\u001b[43m]\u001b[49m\u001b[43m]\u001b[49m, \n\u001b[0;32m     34\u001b[0m               on\u001b[38;5;241m=\u001b[39m\u001b[38;5;124m'\u001b[39m\u001b[38;5;124mgame\u001b[39m\u001b[38;5;124m'\u001b[39m, suffixes\u001b[38;5;241m=\u001b[39m(\u001b[38;5;124m'\u001b[39m\u001b[38;5;124m'\u001b[39m, \u001b[38;5;124m'\u001b[39m\u001b[38;5;124m_team\u001b[39m\u001b[38;5;124m'\u001b[39m))\n\u001b[0;32m     35\u001b[0m game_seconds \u001b[38;5;241m=\u001b[39m \u001b[38;5;241m2400\u001b[39m\n\u001b[0;32m     36\u001b[0m df[\u001b[38;5;124m'\u001b[39m\u001b[38;5;124musage_rate\u001b[39m\u001b[38;5;124m'\u001b[39m] \u001b[38;5;241m=\u001b[39m \u001b[38;5;241m100\u001b[39m \u001b[38;5;241m*\u001b[39m ((df[\u001b[38;5;124m'\u001b[39m\u001b[38;5;124mfield_goals_attempted\u001b[39m\u001b[38;5;124m'\u001b[39m] \u001b[38;5;241m+\u001b[39m \u001b[38;5;241m0.44\u001b[39m \u001b[38;5;241m*\u001b[39m df[\u001b[38;5;124m'\u001b[39m\u001b[38;5;124mfree_throws_attempted\u001b[39m\u001b[38;5;124m'\u001b[39m] \u001b[38;5;241m+\u001b[39m df[\u001b[38;5;124m'\u001b[39m\u001b[38;5;124mturnovers\u001b[39m\u001b[38;5;124m'\u001b[39m]) \u001b[38;5;241m/\u001b[39m\n\u001b[0;32m     37\u001b[0m                           (df[\u001b[38;5;124m'\u001b[39m\u001b[38;5;124mfield_goals_attempted_team\u001b[39m\u001b[38;5;124m'\u001b[39m] \u001b[38;5;241m+\u001b[39m \u001b[38;5;241m0.44\u001b[39m \u001b[38;5;241m*\u001b[39m df[\u001b[38;5;124m'\u001b[39m\u001b[38;5;124mfree_throws_attempted_team\u001b[39m\u001b[38;5;124m'\u001b[39m] \u001b[38;5;241m+\u001b[39m df[\u001b[38;5;124m'\u001b[39m\u001b[38;5;124mturnovers_team\u001b[39m\u001b[38;5;124m'\u001b[39m])) \u001b[38;5;241m*\u001b[39m \\\n\u001b[0;32m     38\u001b[0m                          (df[\u001b[38;5;124m'\u001b[39m\u001b[38;5;124mtotal_seconds\u001b[39m\u001b[38;5;124m'\u001b[39m] \u001b[38;5;241m/\u001b[39m game_seconds)\n",
      "File \u001b[1;32mc:\\Users\\User\\anaconda3\\envs\\python_developer\\Lib\\site-packages\\pandas\\core\\frame.py:4108\u001b[0m, in \u001b[0;36mDataFrame.__getitem__\u001b[1;34m(self, key)\u001b[0m\n\u001b[0;32m   4106\u001b[0m     \u001b[38;5;28;01mif\u001b[39;00m is_iterator(key):\n\u001b[0;32m   4107\u001b[0m         key \u001b[38;5;241m=\u001b[39m \u001b[38;5;28mlist\u001b[39m(key)\n\u001b[1;32m-> 4108\u001b[0m     indexer \u001b[38;5;241m=\u001b[39m \u001b[38;5;28;43mself\u001b[39;49m\u001b[38;5;241;43m.\u001b[39;49m\u001b[43mcolumns\u001b[49m\u001b[38;5;241;43m.\u001b[39;49m\u001b[43m_get_indexer_strict\u001b[49m\u001b[43m(\u001b[49m\u001b[43mkey\u001b[49m\u001b[43m,\u001b[49m\u001b[43m \u001b[49m\u001b[38;5;124;43m\"\u001b[39;49m\u001b[38;5;124;43mcolumns\u001b[39;49m\u001b[38;5;124;43m\"\u001b[39;49m\u001b[43m)\u001b[49m[\u001b[38;5;241m1\u001b[39m]\n\u001b[0;32m   4110\u001b[0m \u001b[38;5;66;03m# take() does not accept boolean indexers\u001b[39;00m\n\u001b[0;32m   4111\u001b[0m \u001b[38;5;28;01mif\u001b[39;00m \u001b[38;5;28mgetattr\u001b[39m(indexer, \u001b[38;5;124m\"\u001b[39m\u001b[38;5;124mdtype\u001b[39m\u001b[38;5;124m\"\u001b[39m, \u001b[38;5;28;01mNone\u001b[39;00m) \u001b[38;5;241m==\u001b[39m \u001b[38;5;28mbool\u001b[39m:\n",
      "File \u001b[1;32mc:\\Users\\User\\anaconda3\\envs\\python_developer\\Lib\\site-packages\\pandas\\core\\indexes\\base.py:6200\u001b[0m, in \u001b[0;36mIndex._get_indexer_strict\u001b[1;34m(self, key, axis_name)\u001b[0m\n\u001b[0;32m   6197\u001b[0m \u001b[38;5;28;01melse\u001b[39;00m:\n\u001b[0;32m   6198\u001b[0m     keyarr, indexer, new_indexer \u001b[38;5;241m=\u001b[39m \u001b[38;5;28mself\u001b[39m\u001b[38;5;241m.\u001b[39m_reindex_non_unique(keyarr)\n\u001b[1;32m-> 6200\u001b[0m \u001b[38;5;28;43mself\u001b[39;49m\u001b[38;5;241;43m.\u001b[39;49m\u001b[43m_raise_if_missing\u001b[49m\u001b[43m(\u001b[49m\u001b[43mkeyarr\u001b[49m\u001b[43m,\u001b[49m\u001b[43m \u001b[49m\u001b[43mindexer\u001b[49m\u001b[43m,\u001b[49m\u001b[43m \u001b[49m\u001b[43maxis_name\u001b[49m\u001b[43m)\u001b[49m\n\u001b[0;32m   6202\u001b[0m keyarr \u001b[38;5;241m=\u001b[39m \u001b[38;5;28mself\u001b[39m\u001b[38;5;241m.\u001b[39mtake(indexer)\n\u001b[0;32m   6203\u001b[0m \u001b[38;5;28;01mif\u001b[39;00m \u001b[38;5;28misinstance\u001b[39m(key, Index):\n\u001b[0;32m   6204\u001b[0m     \u001b[38;5;66;03m# GH 42790 - Preserve name from an Index\u001b[39;00m\n",
      "File \u001b[1;32mc:\\Users\\User\\anaconda3\\envs\\python_developer\\Lib\\site-packages\\pandas\\core\\indexes\\base.py:6252\u001b[0m, in \u001b[0;36mIndex._raise_if_missing\u001b[1;34m(self, key, indexer, axis_name)\u001b[0m\n\u001b[0;32m   6249\u001b[0m     \u001b[38;5;28;01mraise\u001b[39;00m \u001b[38;5;167;01mKeyError\u001b[39;00m(\u001b[38;5;124mf\u001b[39m\u001b[38;5;124m\"\u001b[39m\u001b[38;5;124mNone of [\u001b[39m\u001b[38;5;132;01m{\u001b[39;00mkey\u001b[38;5;132;01m}\u001b[39;00m\u001b[38;5;124m] are in the [\u001b[39m\u001b[38;5;132;01m{\u001b[39;00maxis_name\u001b[38;5;132;01m}\u001b[39;00m\u001b[38;5;124m]\u001b[39m\u001b[38;5;124m\"\u001b[39m)\n\u001b[0;32m   6251\u001b[0m not_found \u001b[38;5;241m=\u001b[39m \u001b[38;5;28mlist\u001b[39m(ensure_index(key)[missing_mask\u001b[38;5;241m.\u001b[39mnonzero()[\u001b[38;5;241m0\u001b[39m]]\u001b[38;5;241m.\u001b[39munique())\n\u001b[1;32m-> 6252\u001b[0m \u001b[38;5;28;01mraise\u001b[39;00m \u001b[38;5;167;01mKeyError\u001b[39;00m(\u001b[38;5;124mf\u001b[39m\u001b[38;5;124m\"\u001b[39m\u001b[38;5;132;01m{\u001b[39;00mnot_found\u001b[38;5;132;01m}\u001b[39;00m\u001b[38;5;124m not in index\u001b[39m\u001b[38;5;124m\"\u001b[39m)\n",
      "\u001b[1;31mKeyError\u001b[0m: \"['field_goals_attempted'] not in index\""
     ]
    }
   ],
   "source": [
    "import pandas as pd\n",
    "\n",
    "# Assuming 'phase' column exists ('regular season' or 'playoffs')\n",
    "# If not, let me know how to identify phases (e.g., game dates)\n",
    "\n",
    "# Split data\n",
    "regular_season = players[players['phase'] == 'REGULAR SEASON'].copy()\n",
    "playoffs = players[players['phase'] == 'PLAYOFFS'].copy()\n",
    "\n",
    "# Function to calculate all metrics\n",
    "def calculate_metrics(df, team_df):\n",
    "    # PPP\n",
    "    df['field_goals_attempted'] = df['two_points_attempted'] + df['three_points_attempted']\n",
    "    df['possessions_used'] = df['field_goals_attempted'] + 0.44 * df['free_throws_attempted'] + df['turnovers']\n",
    "    df['points_per_possession'] = df['points'] / df['possessions_used']\n",
    "    df['points_per_possession'] = df['points_per_possession'].fillna(0).replace([float('inf'), -float('inf')], 0)\n",
    "\n",
    "    # TS%\n",
    "    df['ts_percentage'] = df['points'] / (2 * (df['field_goals_attempted'] + 0.44 * df['free_throws_attempted']))\n",
    "    df['ts_percentage'] = df['ts_percentage'].fillna(0).replace([float('inf'), -float('inf')], 0)\n",
    "\n",
    "    # Pts/32\n",
    "    df['points_per_32'] = (df['points'] / df['total_seconds']) * 1920\n",
    "    df['points_per_32'] = df['points_per_32'].fillna(0).replace([float('inf'), -float('inf')], 0)\n",
    "\n",
    "    # AST/TO (per-game average)\n",
    "    df['ast_to_ratio'] = df.apply(\n",
    "        lambda row: row['assists'] if row['turnovers'] == 0 else row['assists'] / row['turnovers'], \n",
    "        axis=1\n",
    "    )\n",
    "\n",
    "    # USG%\n",
    "    df = df.merge(team_df[['game', 'field_goals_attempted', 'free_throws_attempted', 'turnovers', 'total_seconds']], \n",
    "                  on='game', suffixes=('', '_team'))\n",
    "    game_seconds = 2400\n",
    "    df['usage_rate'] = 100 * ((df['field_goals_attempted'] + 0.44 * df['free_throws_attempted'] + df['turnovers']) /\n",
    "                              (df['field_goals_attempted_team'] + 0.44 * df['free_throws_attempted_team'] + df['turnovers_team'])) * \\\n",
    "                             (df['total_seconds'] / game_seconds)\n",
    "    df['usage_rate'] = df['usage_rate'].fillna(0).replace([float('inf'), -float('inf')], 0)\n",
    "\n",
    "    # REB%\n",
    "    df = df.merge(team_df[['game', 'total_rebounds']], on='game', suffixes=('', '_team_reb'))\n",
    "    df['rebound_rate'] = 100 * (df['total_rebounds'] / df['total_rebounds_team']) * (df['total_seconds'] / game_seconds)\n",
    "    df['rebound_rate'] = df['rebound_rate'].fillna(0).replace([float('inf'), -float('inf')], 0)\n",
    "\n",
    "    return df\n",
    "\n",
    "# Calculate metrics for each phase\n",
    "team_regular = team[team['phase'] == 'regular season'].copy()\n",
    "team_playoffs = team[team['phase'] == 'playoffs'].copy()\n",
    "regular_season = calculate_metrics(regular_season, team_regular)\n",
    "playoffs = calculate_metrics(playoffs, team_playoffs)\n",
    "\n",
    "# Aggregate by player\n",
    "metrics = ['points_per_possession', 'ts_percentage', 'points_per_32', 'ast_to_ratio', 'usage_rate', 'rebound_rate']\n",
    "reg_avg = regular_season.groupby('player')[metrics].mean()\n",
    "play_avg = playoffs.groupby('player')[metrics].mean()\n",
    "\n",
    "# Combine and calculate differences\n",
    "combined = reg_avg.join(play_avg, lsuffix='_reg', rsuffix='_play', how='outer').fillna(0)\n",
    "for metric in metrics:\n",
    "    combined[f'{metric}_diff'] = combined[f'{metric}_play'] - combined[f'{metric}_reg']\n",
    "\n",
    "# Top 5 by PPP difference (playoffs - regular)\n",
    "print(\"Top 5 Players by PPP Difference (Playoffs - Regular Season):\")\n",
    "print(combined[['points_per_possession_reg', 'points_per_possession_play', 'points_per_possession_diff']]\n",
    "      .sort_values('points_per_possession_diff', ascending=False).head(5))\n",
    "\n",
    "# Check: Validate Punter Kevin\n",
    "player_to_check = 'Punter Kevin'\n",
    "for phase, df in [('Regular Season', regular_season), ('Playoffs', playoffs)]:\n",
    "    check_player = df[df['player'] == player_to_check]\n",
    "    if not check_player.empty:\n",
    "        ppp_avg = check_player['points_per_possession'].mean()\n",
    "        raw_means = check_player[['points', 'field_goals_attempted', 'free_throws_attempted', 'turnovers']].mean()\n",
    "        manual_ppp = raw_means['points'] / (raw_means['field_goals_attempted'] + 0.44 * raw_means['free_throws_attempted'] + raw_means['turnovers']) if (raw_means['field_goals_attempted'] + 0.44 * raw_means['free_throws_attempted'] + raw_means['turnovers']) > 0 else 0\n",
    "        print(f\"\\nCheck for {player_to_check} - {phase}:\")\n",
    "        print(f\"Computed PPP: {ppp_avg:.4f}\")\n",
    "        print(f\"Manual PPP: {manual_ppp:.4f}\")\n",
    "        print(f\"Raw Averages - Points: {raw_means['points']:.2f}, FGA: {raw_means['field_goals_attempted']:.2f}, \"\n",
    "              f\"FTA: {raw_means['free_throws_attempted']:.2f}, TO: {raw_means['turnovers']:.2f}\")"
   ]
  }
 ],
 "metadata": {
  "kernelspec": {
   "display_name": "python_developer",
   "language": "python",
   "name": "python3"
  },
  "language_info": {
   "codemirror_mode": {
    "name": "ipython",
    "version": 3
   },
   "file_extension": ".py",
   "mimetype": "text/x-python",
   "name": "python",
   "nbconvert_exporter": "python",
   "pygments_lexer": "ipython3",
   "version": "3.11.10"
  }
 },
 "nbformat": 4,
 "nbformat_minor": 2
}
