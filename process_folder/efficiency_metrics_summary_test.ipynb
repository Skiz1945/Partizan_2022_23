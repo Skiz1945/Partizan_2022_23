{
 "cells": [
  {
   "cell_type": "code",
   "execution_count": 209,
   "metadata": {},
   "outputs": [],
   "source": [
    "import pandas as pd\n",
    "import matplotlib.pyplot as plt\n",
    "import seaborn as sns\n",
    "\n",
    "# Load data\n",
    "file_path = \"../data/partizan_2022_cleaned.csv\"\n",
    "df = pd.read_csv(file_path)\n",
    "\n",
    "players = df[df['player'] != 'PARTIZAN MOZZART BET BELGRADE'].copy()\n",
    "team = df[df['player'] == 'PARTIZAN MOZZART BET BELGRADE'].copy()\n",
    "\n",
    "# Filter players and team\n",
    "players_1 = df[df['player'] != 'PARTIZAN MOZZART BET BELGRADE'].copy()\n",
    "team_1 = df[df['player'] == 'PARTIZAN MOZZART BET BELGRADE'].copy()\n",
    "\n",
    "\n",
    "players_1['field_goals_attempted'] = players_1['two_points_attempted'] + players_1['three_points_attempted']\n",
    "team_1['field_goals_attempted'] = team_1['two_points_attempted'] + team_1['three_points_attempted']\n",
    "\n"
   ]
  },
  {
   "cell_type": "code",
   "execution_count": 210,
   "metadata": {},
   "outputs": [
    {
     "name": "stdout",
     "output_type": "stream",
     "text": [
      "TS% for first 5 rows:\n",
      "         player  ts_percentage\n",
      "0  Punter Kevin       0.868984\n",
      "1  Punter Kevin       0.729167\n",
      "2  Punter Kevin       0.522193\n",
      "3  Punter Kevin       0.570342\n",
      "4  Punter Kevin       0.696721\n"
     ]
    }
   ],
   "source": [
    "# Copy the DataFrame for the next step\n",
    "players_3 = players_1.copy()\n",
    "\n",
    "\n",
    "# Calculate TS% (does not depend on team stats)\n",
    "players_3['ts_percentage'] = players_3['points'] / (2 * (players_3['field_goals_attempted'] + 0.44 * players_3['free_throws_attempted']))\n",
    "players_3['ts_percentage'] = players_3['ts_percentage'].fillna(0).replace([float('inf'), -float('inf')], 0)\n",
    "\n",
    "# Debug: Check TS% for a few players\n",
    "print(\"TS% for first 5 rows:\")\n",
    "print(players_3[['player', 'ts_percentage']].head(5))"
   ]
  },
  {
   "cell_type": "code",
   "execution_count": 211,
   "metadata": {},
   "outputs": [
    {
     "name": "stdout",
     "output_type": "stream",
     "text": [
      "PP32 for first 5 rows:\n",
      "         player  points_per_32\n",
      "0  Punter Kevin      24.375000\n",
      "1  Punter Kevin      24.347826\n",
      "2  Punter Kevin      17.524244\n",
      "3  Punter Kevin      16.587473\n",
      "4  Punter Kevin      17.133858\n"
     ]
    }
   ],
   "source": [
    "# Copy the DataFrame for the next step\n",
    "players_4 = players_1.copy()\n",
    "\n",
    "# Calculate PP32 (does not depend on team stats)\n",
    "players_4['points_per_32'] = (players_4['points'] / players_4['total_seconds']) * 1920  # 1920 seconds = 32 minutes\n",
    "players_4['points_per_32'] = players_4['points_per_32'].fillna(0).replace([float('inf'), -float('inf')], 0)\n",
    "\n",
    "# Debug: Check PP32 for a few players\n",
    "print(\"PP32 for first 5 rows:\")\n",
    "print(players_4[['player', 'points_per_32']].head(5))"
   ]
  },
  {
   "cell_type": "code",
   "execution_count": 212,
   "metadata": {},
   "outputs": [
    {
     "name": "stdout",
     "output_type": "stream",
     "text": [
      "AST/TO for first 5 rows:\n",
      "         player  ast_to_ratio\n",
      "0  Punter Kevin           3.0\n",
      "1  Punter Kevin           1.5\n",
      "2  Punter Kevin           6.0\n",
      "3  Punter Kevin           2.0\n",
      "4  Punter Kevin           3.0\n"
     ]
    }
   ],
   "source": [
    "# Copy the DataFrame for the next step\n",
    "players_5 = players_1.copy()\n",
    "\n",
    "# Calculate AST/TO per game (does not depend on team stats)\n",
    "players_5['ast_to_ratio'] = players_5.apply(lambda row: row['assists'] if row['turnovers'] == 0 else row['assists'] / row['turnovers'], axis=1)\n",
    "\n",
    "# Debug: Check AST/TO for a few players\n",
    "print(\"AST/TO for first 5 rows:\")\n",
    "print(players_5[['player', 'ast_to_ratio']].head(5))"
   ]
  },
  {
   "cell_type": "code",
   "execution_count": 213,
   "metadata": {},
   "outputs": [
    {
     "name": "stdout",
     "output_type": "stream",
     "text": [
      "Top 5 Players by Usage Rate (USG%):\n",
      "player\n",
      "Punter Kevin       13.644535\n",
      "Leday Zach         11.260251\n",
      "Lessort Mathias     9.040352\n",
      "Exum Dante          8.773679\n",
      "Nunnally James      6.643273\n",
      "Name: usage_rate, dtype: float64\n"
     ]
    }
   ],
   "source": [
    "# calculate total shot attempts because of merging below\n",
    "players['field_goals_attempted'] = players['two_points_attempted'] + players['three_points_attempted']\n",
    "team['field_goals_attempted'] = team['two_points_attempted'] + team['three_points_attempted']\n",
    "\n",
    "\n",
    "# merge team stats to players\n",
    "players = players.merge(team[['game', 'field_goals_attempted', 'free_throws_attempted', 'turnovers', 'total_seconds']], \n",
    "                        on='game', suffixes=('', '_team')).reset_index(drop=True)\n",
    "\n",
    "\n",
    "# calculate Usage Rate\n",
    "game_seconds = 2400  # 40 minutes * 60 seconds\n",
    "players['usage_rate'] = 100 * ((players['field_goals_attempted'] + 0.44 * players['free_throws_attempted'] + players['turnovers']) /\n",
    "                               (players['field_goals_attempted_team'] + 0.44 * players['free_throws_attempted_team'] + players['turnovers_team'])) * \\\n",
    "                              (players['total_seconds'] / game_seconds)\n",
    "     \n",
    "                                       \n",
    "# handle division by zero (players with no team stats)                              \n",
    "players['usage_rate'] = players['usage_rate'].fillna(0).replace([float('inf'), -float('inf')], 0)\n",
    "\n",
    "\n",
    "# average USG% per player\n",
    "avg_usg = players.groupby('player')['usage_rate'].mean().sort_values(ascending=False)\n",
    "\n",
    "\n",
    "print(\"Top 5 Players by Usage Rate (USG%):\")\n",
    "print(avg_usg.head(5))"
   ]
  },
  {
   "cell_type": "code",
   "execution_count": 214,
   "metadata": {},
   "outputs": [
    {
     "name": "stdout",
     "output_type": "stream",
     "text": [
      "PPP for first 5 rows:\n",
      "         player  points_per_possession\n",
      "0  Punter Kevin               1.533019\n",
      "1  Punter Kevin               1.320755\n",
      "2  Punter Kevin               1.044386\n",
      "3  Punter Kevin               1.041667\n",
      "4  Punter Kevin               1.287879\n"
     ]
    }
   ],
   "source": [
    "# Copy the DataFrame for the next step\n",
    "players_7 = players_1.copy()\n",
    "\n",
    "\n",
    "# Calculate PPP\n",
    "players_7['possessions_used'] = players_7['field_goals_attempted'] + 0.44 * players_7['free_throws_attempted'] + players_7['turnovers']\n",
    "players_7['points_per_possession'] = players_7['points'] / players_7['possessions_used']\n",
    "players_7['points_per_possession'] = players_7['points_per_possession'].fillna(0).replace([float('inf'), -float('inf')], 0)\n",
    "\n",
    "# Debug: Check PPP for a few players\n",
    "print(\"PPP for first 5 rows:\")\n",
    "print(players_7[['player', 'points_per_possession']].head(5))"
   ]
  },
  {
   "cell_type": "code",
   "execution_count": 216,
   "metadata": {},
   "outputs": [
    {
     "name": "stdout",
     "output_type": "stream",
     "text": [
      "Top 5 Players by Rebound Rate:\n",
      "player\n",
      "Lessort Mathias    16.606726\n",
      "Leday Zach         12.978675\n",
      "Punter Kevin        5.821043\n",
      "Nunnally James      4.828153\n",
      "Exum Dante          4.804690\n",
      "Name: rebound_rate, dtype: float64\n"
     ]
    }
   ],
   "source": [
    "# calculate Rebound Rate\n",
    "# formula: Rebound Rate = 100 * (Player Total Rebounds / Team Total Rebounds) * (Player Total Seconds / game_seconds)\n",
    "# Rebound Rate (REB%): Percentage of team rebounds secured, adjusted for playing time\n",
    "# approximates rebounding impact using team totals as a proxy for available rebounds.\n",
    "\n",
    "# merge team stats to players \n",
    "players_1 = players_1.merge(team[['game', 'total_rebounds']], on='game', suffixes=('', '_team'))\n",
    "\n",
    "# reset index to avoid duplicate labels\n",
    "players_1 = players_1.reset_index(drop=True)\n",
    "\n",
    "\n",
    "# calculate Rebound Rate\n",
    "game_seconds = 2400  # 40 minutes * 60 seconds\n",
    "players_1['rebound_rate'] = 100 * (players_1['total_rebounds'] / players_1['total_rebounds_team']) * (players_1['total_seconds'] / game_seconds)\n",
    "\n",
    "\n",
    "# handle division by zero (players with no team stats)\n",
    "players_1['rebound_rate'] = players_1['rebound_rate'].fillna(0).replace([float('inf'), -float('inf')], 0)\n",
    "\n",
    "# average Rebound Rate per player\n",
    "avg_rr = players_1.groupby('player')['rebound_rate'].mean().sort_values(ascending=False)\n",
    "\n",
    "print(\"Top 5 Players by Rebound Rate:\") \n",
    "print(avg_rr.head(5))"
   ]
  },
  {
   "cell_type": "code",
   "execution_count": 217,
   "metadata": {},
   "outputs": [
    {
     "name": "stdout",
     "output_type": "stream",
     "text": [
      "Top 5 Players by True Shooting Percentage (TS%):\n",
      "player\n",
      "Lessort Mathias    0.721486\n",
      "Exum Dante         0.671916\n",
      "Punter Kevin       0.623184\n",
      "Smailagic Alen     0.619905\n",
      "Leday Zach         0.587875\n",
      "Name: ts_percentage, dtype: float64\n",
      "\n",
      "Top 5 Players by Points per 32 Minutes (PP32):\n",
      "player\n",
      "Punter Kevin        18.341875\n",
      "Exum Dante          18.070395\n",
      "Smailagic Alen      17.346076\n",
      "Lessort Mathias     12.758641\n",
      "Avramovic Aleksa    12.523459\n",
      "Name: points_per_32, dtype: float64\n",
      "\n",
      "Top 5 Players by Assist-to-Turnover Ratio (AST/TO):\n",
      "player\n",
      "Exum Dante          1.857456\n",
      "Punter Kevin        1.844144\n",
      "Nunnally James      1.401316\n",
      "Madar Yam           1.391026\n",
      "Avramovic Aleksa    1.201389\n",
      "Name: ast_to_ratio, dtype: float64\n",
      "\n",
      "Top 5 Players by Usage Rate (USG%):\n",
      "player\n",
      "Punter Kevin       13.644535\n",
      "Leday Zach         11.260251\n",
      "Lessort Mathias     9.040352\n",
      "Exum Dante          8.773679\n",
      "Nunnally James      6.643273\n",
      "Name: usage_rate, dtype: float64\n",
      "\n",
      "Top 5 Players by Points per Possession (PPP):\n",
      "player\n",
      "Lessort Mathias    1.232044\n",
      "Exum Dante         1.146356\n",
      "Punter Kevin       1.126225\n",
      "Smailagic Alen     1.123254\n",
      "Leday Zach         1.062734\n",
      "Name: points_per_possession, dtype: float64\n",
      "\n",
      "Top 5 Players by Rebound Rate (REB%):\n",
      "player\n",
      "Lessort Mathias    16.606726\n",
      "Leday Zach         12.978675\n",
      "Punter Kevin        5.821043\n",
      "Nunnally James      4.828153\n",
      "Exum Dante          4.804690\n",
      "Name: rebound_rate, dtype: float64\n"
     ]
    }
   ],
   "source": [
    "# Compute averages\n",
    "avg_ts = players_3.groupby('player')['ts_percentage'].mean().sort_values(ascending=False)\n",
    "avg_pp32 = players_4.groupby('player')['points_per_32'].mean().sort_values(ascending=False)\n",
    "avg_ast_to = players_5.groupby('player')['ast_to_ratio'].mean().sort_values(ascending=False)\n",
    "avg_ppp = players_7.groupby('player')['points_per_possession'].mean().sort_values(ascending=False)\n",
    "\n",
    "\n",
    "# Print top 5 for each metric\n",
    "print(\"Top 5 Players by True Shooting Percentage (TS%):\")\n",
    "print(avg_ts.head(5))\n",
    "print(\"\\nTop 5 Players by Points per 32 Minutes (PP32):\")\n",
    "print(avg_pp32.head(5))\n",
    "print(\"\\nTop 5 Players by Assist-to-Turnover Ratio (AST/TO):\")\n",
    "print(avg_ast_to.head(5))\n",
    "print(\"\\nTop 5 Players by Usage Rate (USG%):\")\n",
    "print(avg_usg.head(5))\n",
    "print(\"\\nTop 5 Players by Points per Possession (PPP):\")\n",
    "print(avg_ppp.head(5))\n",
    "print(\"\\nTop 5 Players by Rebound Rate (REB%):\")\n",
    "print(avg_rr.head(5))\n",
    "\n"
   ]
  }
 ],
 "metadata": {
  "kernelspec": {
   "display_name": "python_developer",
   "language": "python",
   "name": "python3"
  },
  "language_info": {
   "codemirror_mode": {
    "name": "ipython",
    "version": 3
   },
   "file_extension": ".py",
   "mimetype": "text/x-python",
   "name": "python",
   "nbconvert_exporter": "python",
   "pygments_lexer": "ipython3",
   "version": "3.11.10"
  }
 },
 "nbformat": 4,
 "nbformat_minor": 2
}
