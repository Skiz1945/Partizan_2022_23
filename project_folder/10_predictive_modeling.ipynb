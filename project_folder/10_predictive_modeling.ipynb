{
 "cells": [
  {
   "cell_type": "markdown",
   "metadata": {},
   "source": [
    "### Predictive Modeling for Player Performance\n",
    "\n",
    "#### Overview  \n",
    "This notebook focuses on forecasting player performance for Partizan Mozzart Bet Belgrade’s 2022/23 roster by predicting points scored in a game using historical data. I developed regression models - Linear Regression and Random Forest - to predict points based on features like playing time, recent performance, game phase, and home/away status. Additionally, I built player-specific models for key players **Kevin Punter** and **Mathias Lessort** to capture individual trends. The goal is to identify the best predictive approach, providing actionable insights for game planning and strategy optimization."
   ]
  },
  {
   "cell_type": "code",
   "execution_count": 3,
   "metadata": {},
   "outputs": [],
   "source": [
    "import pandas as pd\n",
    "\n",
    "file_path = \"../data/partizan_2022_cleaned.csv\"\n",
    "\n",
    "df = pd.read_csv(file_path)"
   ]
  },
  {
   "cell_type": "markdown",
   "metadata": {},
   "source": [
    "Filtering ensures the dataset focuses on players with consistent participation, providing a robust foundation for modeling. The 10-game threshold balances sample size and inclusion, minimizing noise from players with insufficient data."
   ]
  },
  {
   "cell_type": "code",
   "execution_count": 4,
   "metadata": {},
   "outputs": [],
   "source": [
    "# filter active players with sufficient games (e.g., at least 10 games)\n",
    "players = df[df['player'] != 'PARTIZAN MOZZART BET BELGRADE'].copy()\n",
    "active_players = players[players['is_playing'] == True].copy()\n",
    "player_games = active_players.groupby('player')['game'].nunique()\n",
    "active_players = active_players[active_players['player'].isin(player_games[player_games >= 10].index)]"
   ]
  },
  {
   "cell_type": "markdown",
   "metadata": {},
   "source": [
    "Prepare the dataset by engineering features to capture recent performance, game context, and playing time, ensuring the data is suitable for predictive modeling."
   ]
  },
  {
   "cell_type": "code",
   "execution_count": 5,
   "metadata": {},
   "outputs": [
    {
     "name": "stdout",
     "output_type": "stream",
     "text": [
      "          player     game  round           phase  points  points_previous_game\n",
      "23  Punter Kevin  BAS-PAR      2  REGULAR SEASON      26                  13.0\n",
      "31  Punter Kevin  PAR-MIL      3  REGULAR SEASON       7                  26.0\n",
      "33  Punter Kevin  PAR-VIR      4  REGULAR SEASON      10                   7.0\n",
      "35  Punter Kevin  PAR-ZAL      5  REGULAR SEASON      26                  10.0\n",
      "27  Punter Kevin  PAN-PAR      6  REGULAR SEASON      29                  26.0\n"
     ]
    }
   ],
   "source": [
    "# prepare data\n",
    "# create a numerical phase order column (0 for regular season, 1 for playoffs)\n",
    "active_players['phase_order'] = active_players['phase'].map({'REGULAR SEASON': 0, 'PLAYOFFS': 1})\n",
    "\n",
    "# sort by player, phase_order, and round to ensure chronological order\n",
    "active_players = active_players.sort_values(['player', 'phase_order', 'round'])\n",
    "\n",
    "# add points_previous_game\n",
    "active_players['points_previous_game'] = active_players.groupby('player')['points'].shift(1)\n",
    "\n",
    "# drop rows with missing lagged data\n",
    "active_players = active_players.dropna(subset=['points_previous_game'])\n",
    "\n",
    "# add is_playoff column\n",
    "active_players['is_playoff'] = (active_players['phase'] == 'PLAYOFFS').astype(int)\n",
    "\n",
    "# add is_home feature (1 if Partizan is home, 0 if away)\n",
    "active_players['is_home'] = active_players['game'].apply(lambda x: 1 if x.startswith('PAR') else 0)\n",
    "\n",
    "# drop the temporary phase_order column\n",
    "active_players = active_players.drop(columns=['phase_order'])\n",
    "\n",
    "# check a few rows for a player\n",
    "print(active_players[active_players['player'] == 'Punter Kevin'][['player', 'game', 'round', 'phase', 'points', 'points_previous_game']].head())"
   ]
  },
  {
   "cell_type": "markdown",
   "metadata": {},
   "source": [
    "### Interpretation\n",
    "\n",
    "#### Feature Engineering\n",
    "\n",
    "- **points_previous_game**: Captures recent form (e.g., Punter’s 26 points followed by 7, showing variability).\n",
    "- **is_playoff**: Accounts for game intensity differences.\n",
    "- **is_home**: Reflects home advantage (e.g., 'PAR-MIL' is a home game).\n",
    "- **Chronological sorting**: Ensures lagged features align correctly with game sequences.\n",
    "- **Dropping missing data**: Maintains data integrity, though it reduces the dataset size slightly.\n",
    "\n",
    "The prepared dataset is now ready for modeling with features `total_seconds`, `points_previous_game`, `is_playoff`, and `is_home` to predict points."
   ]
  },
  {
   "cell_type": "markdown",
   "metadata": {},
   "source": [
    "Develop a baseline Linear Regression model to predict points, providing an interpretable starting point for performance forecasting."
   ]
  },
  {
   "cell_type": "code",
   "execution_count": 6,
   "metadata": {},
   "outputs": [
    {
     "name": "stdout",
     "output_type": "stream",
     "text": [
      "Linear Regression Results:\n",
      "Intercept: -1.4678340138664883\n",
      "Coefficients (total_seconds, points_previous_game, is_playoff, is_home): [ 0.00854191 -0.02812799 -0.10202428  0.48724258]\n",
      "R-squared: 0.36\n",
      "Mean Squared Error: 29.25\n"
     ]
    }
   ],
   "source": [
    "from sklearn.model_selection import train_test_split\n",
    "from sklearn.linear_model import LinearRegression\n",
    "from sklearn.metrics import r2_score, mean_squared_error\n",
    "\n",
    "# features and target (now including is_home)\n",
    "X = active_players[['total_seconds', 'points_previous_game', 'is_playoff', 'is_home']]\n",
    "y = active_players['points']\n",
    "\n",
    "# split into train and test sets\n",
    "X_train, X_test, y_train, y_test = train_test_split(X, y, test_size=0.2, random_state=42)\n",
    "\n",
    "# train the Linear Regression model\n",
    "lr_model = LinearRegression()\n",
    "lr_model.fit(X_train, y_train)\n",
    "\n",
    "\n",
    "print(\"Linear Regression Results:\")\n",
    "print(\"Intercept:\", lr_model.intercept_)\n",
    "print(\"Coefficients (total_seconds, points_previous_game, is_playoff, is_home):\", lr_model.coef_)\n",
    "\n",
    "# predict and evaluate Linear Regression\n",
    "y_pred_lr = lr_model.predict(X_test)\n",
    "r2_lr = r2_score(y_test, y_pred_lr)\n",
    "mse_lr = mean_squared_error(y_test, y_pred_lr)\n",
    "print(f\"R-squared: {r2_lr:.2f}\")\n",
    "print(f\"Mean Squared Error: {mse_lr:.2f}\")"
   ]
  },
  {
   "cell_type": "markdown",
   "metadata": {},
   "source": [
    "### Interpretation\n",
    "\n",
    "#### Equation\n",
    "`points = -1.47 + 0.0085 * total_seconds - 0.0281 * points_previous_game - 0.102 * is_playoff + 0.487 * is_home`\n",
    "\n",
    "#### Coefficients\n",
    "- **total_seconds**: `0.0085` (0.51 points per minute) - playing time significantly impacts scoring.\n",
    "- **points_previous_game**: `-0.028` - higher previous scores slightly reduce predicted points, possibly due to regression to the mean or opponent adjustments.\n",
    "- **is_playoff**: `-0.102` - playoff games slightly lower points, reflecting increased competition.\n",
    "- **is_home**: `0.487` - home games provide a small scoring boost, confirming a home advantage.\n",
    "\n",
    "#### Performance\n",
    "- **R² = 0.36**: The model explains 36% of the variance in points, a moderate fit.\n",
    "- **MSE = 29.25**: Average prediction error of ~5.41 points (RMSE), reasonable for a baseline.\n",
    "\n",
    "The model captures key trends (e.g., playing time’s importance) but leaves 64% of variance unexplained, suggesting potential for more complex models or additional features."
   ]
  },
  {
   "cell_type": "markdown",
   "metadata": {},
   "source": [
    "Explore a Random Forest model to capture potential non-linear relationships and feature interactions, aiming to improve prediction accuracy over Linear Regression."
   ]
  },
  {
   "cell_type": "code",
   "execution_count": 7,
   "metadata": {},
   "outputs": [
    {
     "name": "stdout",
     "output_type": "stream",
     "text": [
      "\n",
      "Random Forest Results:\n",
      "R-squared: 0.29\n",
      "Mean Squared Error: 32.50\n",
      "Feature Importance (total_seconds, points_previous_game, is_playoff, is_home): [0.8080132  0.15034656 0.01366977 0.02797047]\n"
     ]
    }
   ],
   "source": [
    "from sklearn.ensemble import RandomForestRegressor\n",
    "\n",
    "# train the Random Forest model\n",
    "rf_model = RandomForestRegressor(random_state=42, n_estimators=100)\n",
    "rf_model.fit(X_train, y_train)\n",
    "\n",
    "# predict and evaluate Random Forest\n",
    "y_pred_rf = rf_model.predict(X_test)\n",
    "r2_rf = r2_score(y_test, y_pred_rf)\n",
    "mse_rf = mean_squared_error(y_test, y_pred_rf)\n",
    "print(\"\\nRandom Forest Results:\")\n",
    "print(f\"R-squared: {r2_rf:.2f}\")\n",
    "print(f\"Mean Squared Error: {mse_rf:.2f}\")\n",
    "print(\"Feature Importance (total_seconds, points_previous_game, is_playoff, is_home):\", rf_model.feature_importances_)"
   ]
  },
  {
   "cell_type": "markdown",
   "metadata": {},
   "source": [
    "### Interpretation\n",
    "\n",
    "#### Performance\n",
    "- **R² = 0.29**: Explains 29% of variance, worse than Linear Regression (0.36).\n",
    "- **MSE = 32.50**: Average error of ~5.70 points (RMSE), higher than Linear Regression (5.41).\n",
    "\n",
    "#### Feature Importance\n",
    "- **total_seconds**: 80.8% - dominates predictions, aligning with Linear Regression’s findings.\n",
    "- **points_previous_game**: 15.0% - notable but secondary.\n",
    "- **is_playoff**: 1.4% - minimal impact.\n",
    "- **is_home**: 2.8% - minimal impact.\n",
    "\n",
    "The Random Forest underperforms, likely due to overfitting on a small dataset (after filtering) or because the relationships are mostly linear, favoring Linear Regression’s simpler assumptions."
   ]
  },
  {
   "cell_type": "markdown",
   "metadata": {},
   "source": [
    "## Results\n",
    "\n",
    "| Model             | R-squared | Mean Squared Error | RMSE (Points) |\n",
    "|-------------------|-----------|--------------------|---------------|\n",
    "| Linear Regression | 0.36      | 29.25              | 5.41          |\n",
    "| Random Forest     | 0.29      | 32.50              | 5.70          |\n",
    "\n",
    "## Interpretation\n",
    "- **Best Model**: Linear Regression outperforms Random Forest (R²=0.36 vs. 0.29, RMSE=5.41 vs. 5.70).\n",
    "- **Reason**: The small dataset and predominantly linear relationships favor Linear Regression’s simplicity. Random Forest may have overfit due to limited data, as it’s more suited to larger datasets with complex patterns.\n",
    "- **Practical Use**: Linear Regression provides a reasonable prediction with an average error of 5.41 points, useful for rough forecasts (e.g., “Punter might score 15 points if he plays 30 minutes”)."
   ]
  },
  {
   "cell_type": "markdown",
   "metadata": {},
   "source": [
    "Develop tailored Linear Regression models for Kevin Punter and Mathias Lessort to capture individual scoring patterns, potentially improving prediction accuracy over the general model."
   ]
  },
  {
   "cell_type": "code",
   "execution_count": 8,
   "metadata": {},
   "outputs": [
    {
     "name": "stdout",
     "output_type": "stream",
     "text": [
      "\n",
      "Results for Punter Kevin:\n",
      "Intercept: 0.27180171401723996\n",
      "Coefficients (total_seconds, points_previous_game, is_playoff, is_home): [ 0.01135243 -0.24435824  4.5532027   0.90994255]\n",
      "R-squared: 0.61\n",
      "Mean Squared Error: 12.88\n",
      "\n",
      "Results for Lessort Mathias:\n",
      "Intercept: 5.645722623747675\n",
      "Coefficients (total_seconds, points_previous_game, is_playoff, is_home): [ 0.00617132 -0.43831527 -0.15918573  2.36874769]\n",
      "R-squared: -0.27\n",
      "Mean Squared Error: 17.97\n"
     ]
    }
   ],
   "source": [
    "# function to train and evaluate a player-specific model\n",
    "def train_player_model(player_name):\n",
    "    # filter data for the player\n",
    "    player_data = active_players[active_players['player'] == player_name]\n",
    "    \n",
    "    # check if the player has enough data\n",
    "    if len(player_data) < 10:\n",
    "        print(f\"Not enough data for {player_name} (only {len(player_data)} games).\")\n",
    "        return\n",
    "    \n",
    "    # features and target\n",
    "    X_player = player_data[['total_seconds', 'points_previous_game', 'is_playoff', 'is_home']]\n",
    "    y_player = player_data['points']\n",
    "    \n",
    "    # split into train and test sets\n",
    "    X_train_p, X_test_p, y_train_p, y_test_p = train_test_split(X_player, y_player, test_size=0.2, random_state=42)\n",
    "    \n",
    "    # train the model\n",
    "    model_player = LinearRegression()\n",
    "    model_player.fit(X_train_p, y_train_p)\n",
    "    \n",
    "    # predict and evaluate\n",
    "    y_pred_p = model_player.predict(X_test_p)\n",
    "    r2_p = r2_score(y_test_p, y_pred_p)\n",
    "    mse_p = mean_squared_error(y_test_p, y_pred_p)\n",
    "    \n",
    "    \n",
    "    \n",
    "    print(f\"\\nResults for {player_name}:\")\n",
    "    print(\"Intercept:\", model_player.intercept_)\n",
    "    print(\"Coefficients (total_seconds, points_previous_game, is_playoff, is_home):\", model_player.coef_)\n",
    "    print(f\"R-squared: {r2_p:.2f}\")\n",
    "    print(f\"Mean Squared Error: {mse_p:.2f}\")\n",
    "\n",
    "# train models for Kevin Punter and Mathias Lessort\n",
    "train_player_model('Punter Kevin')\n",
    "train_player_model('Lessort Mathias')"
   ]
  },
  {
   "cell_type": "markdown",
   "metadata": {},
   "source": [
    "### Interpretation\n",
    "\n",
    "#### Kevin Punter\n",
    "- **Role**: Scoring guard, known for offensive consistency.\n",
    "- **Equation**: `points = 0.272 + 0.0114 * total_seconds - 0.244 * points_previous_game + 4.553 * is_playoff + 0.910 * is_home`\n",
    "- **Coefficients**:\n",
    "  - **total_seconds**: `0.0114` (0.68 points per minute) - strong reliance on playing time.\n",
    "  - **points_previous_game**: `-0.244` - suggests variability after high-scoring games, possibly due to opponent adjustments.\n",
    "  - **is_playoff**: `4.553` - significant boost in playoffs, reflecting clutch performance.\n",
    "  - **is_home**: `0.910` - notable home advantage, higher than the general model’s 0.487.\n",
    "- **Performance**: R²=0.61 (61% variance explained), MSE=12.88 (RMSE=3.59 points).\n",
    "- **Insight**: The model fits well, significantly improving over the general model (R²=0.36, RMSE=5.41), making it reliable for predicting Punter’s scoring with an error of ~3.6 points.\n",
    "\n",
    "#### Mathias Lessort\n",
    "- **Role**: Dominant big man, likely matchup-dependent.\n",
    "- **Equation**: `points = 5.646 + 0.0062 * total_seconds - 0.438 * points_previous_game - 0.159 * is_playoff + 2.369 * is_home`\n",
    "- **Coefficients**:\n",
    "  - **total_seconds**: `0.0062` (0.37 points per minute) - less dependent on time than Punter.\n",
    "  - **points_previous_game**: `-0.438` - high variability, possibly due to inconsistent minutes or matchups.\n",
    "  - **is_playoff**: `-0.159` - slight dip in playoffs.\n",
    "  - **is_home**: `2.369` - large home boost, much higher than Punter’s 0.910.\n",
    "- **Performance**: R²=-0.27 (worse than a mean prediction), MSE=17.97 (RMSE=4.24 points).\n",
    "- **Insight**: The model performs poorly, failing to capture Lessort’s scoring patterns, though its RMSE (4.24) is better than the general model’s 5.41. Lessort’s scoring may be too matchup-dependent for these features.\n",
    "\n",
    "### Comparison\n",
    "- Punter’s model significantly outperforms the general model, showing the value of player-specific modeling for key scorers.\n",
    "- Lessort’s model fails, indicating his scoring is harder to predict with these features, possibly due to external factors like opponent defense."
   ]
  },
  {
   "cell_type": "markdown",
   "metadata": {},
   "source": [
    "## Conclusion\n",
    "\n",
    "### Key Findings\n",
    "\n",
    "#### General Models\n",
    "- Linear Regression (R²=0.36, RMSE=5.41) outperforms Random Forest (R²=0.29, RMSE=5.70), providing a solid baseline for predicting points across all players.\n",
    "- Playing time (`total_seconds`) is the most significant predictor in both models.\n",
    "\n",
    "#### Player-Specific Models\n",
    "- **Kevin Punter**: The tailored model excels (R²=0.61, RMSE=3.59), capturing his scoring trends effectively and improving over the general model.\n",
    "- **Mathias Lessort**: The model performs poorly (R²=-0.27, RMSE=4.24), suggesting his scoring is influenced by factors beyond the current features.\n",
    "\n",
    "#### Feature Insights\n",
    "- Home advantage and playoff intensity impact scoring, with varying effects across players.\n",
    "- Recent performance (`points_previous_game`) often shows a negative coefficient, indicating variability or regression to the mean.\n",
    "\n",
    "#### Strategic Implications\n",
    "- **Game Planning**: Use Punter’s model for reliable predictions (e.g., adjust minutes to target specific scoring outputs).\n",
    "- **Team Strategy**: Leverage home advantage (especially for Lessort) and prepare for playoff intensity (notably for Punter’s scoring boost)."
   ]
  }
 ],
 "metadata": {
  "kernelspec": {
   "display_name": "python_developer",
   "language": "python",
   "name": "python3"
  },
  "language_info": {
   "codemirror_mode": {
    "name": "ipython",
    "version": 3
   },
   "file_extension": ".py",
   "mimetype": "text/x-python",
   "name": "python",
   "nbconvert_exporter": "python",
   "pygments_lexer": "ipython3",
   "version": "3.11.10"
  }
 },
 "nbformat": 4,
 "nbformat_minor": 2
}
