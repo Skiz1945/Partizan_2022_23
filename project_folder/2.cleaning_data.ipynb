{
 "cells": [
  {
   "cell_type": "markdown",
   "metadata": {},
   "source": [
    "# Cleaning Data \n",
    "\n",
    "## Overview\n",
    "This notebook cleans the raw dataset (`partizan_2022_raw.csv`) from the 2022-2023 EuroLeague season for the Partizan basketball team. The cleaning process involves loading the data, exploring its structure, handling missing values, standardizing formats, checking for duplicates and inconsistencies, and saving the cleaned data. This ensures the dataset is ready for accurate analysis in subsequent steps."
   ]
  },
  {
   "cell_type": "code",
   "execution_count": 13,
   "metadata": {},
   "outputs": [],
   "source": [
    "import pandas as pd\n",
    "\n",
    "file_path = \"../data/partizan_2022_raw.csv\"\n",
    "\n",
    "df = pd.read_csv(file_path)"
   ]
  },
  {
   "cell_type": "markdown",
   "metadata": {},
   "source": [
    "Understand the dataset’s structure, including the number of entries, column names, data types, and non-null counts, to identify areas needing cleaning."
   ]
  },
  {
   "cell_type": "code",
   "execution_count": 14,
   "metadata": {},
   "outputs": [
    {
     "name": "stdout",
     "output_type": "stream",
     "text": [
      "<class 'pandas.core.frame.DataFrame'>\n",
      "RangeIndex: 500 entries, 0 to 499\n",
      "Data columns (total 32 columns):\n",
      " #   Column                  Non-Null Count  Dtype  \n",
      "---  ------                  --------------  -----  \n",
      " 0   game_player_id          500 non-null    object \n",
      " 1   game_id                 500 non-null    object \n",
      " 2   game                    500 non-null    object \n",
      " 3   round                   500 non-null    int64  \n",
      " 4   phase                   500 non-null    object \n",
      " 5   season_code             500 non-null    object \n",
      " 6   player_id               500 non-null    object \n",
      " 7   is_starter              500 non-null    float64\n",
      " 8   is_playing              500 non-null    float64\n",
      " 9   team_id                 500 non-null    object \n",
      " 10  dorsal                  500 non-null    object \n",
      " 11  player                  500 non-null    object \n",
      " 12  minutes                 498 non-null    object \n",
      " 13  points                  500 non-null    int64  \n",
      " 14  two_points_made         500 non-null    int64  \n",
      " 15  two_points_attempted    500 non-null    int64  \n",
      " 16  three_points_made       500 non-null    int64  \n",
      " 17  three_points_attempted  500 non-null    int64  \n",
      " 18  free_throws_made        500 non-null    int64  \n",
      " 19  free_throws_attempted   500 non-null    int64  \n",
      " 20  offensive_rebounds      500 non-null    int64  \n",
      " 21  defensive_rebounds      500 non-null    int64  \n",
      " 22  total_rebounds          500 non-null    int64  \n",
      " 23  assists                 500 non-null    int64  \n",
      " 24  steals                  500 non-null    int64  \n",
      " 25  turnovers               500 non-null    int64  \n",
      " 26  blocks_favour           500 non-null    int64  \n",
      " 27  blocks_against          500 non-null    int64  \n",
      " 28  fouls_committed         500 non-null    int64  \n",
      " 29  fouls_received          500 non-null    int64  \n",
      " 30  valuation               500 non-null    int64  \n",
      " 31  plus_minus              500 non-null    int64  \n",
      "dtypes: float64(2), int64(20), object(10)\n",
      "memory usage: 125.1+ KB\n",
      "None\n"
     ]
    }
   ],
   "source": [
    "# exploring the data \n",
    "print(df.info())"
   ]
  },
  {
   "cell_type": "markdown",
   "metadata": {},
   "source": [
    "Display all column names to confirm the dataset’s contents and identify columns for cleaning or removal."
   ]
  },
  {
   "cell_type": "code",
   "execution_count": 15,
   "metadata": {},
   "outputs": [
    {
     "name": "stdout",
     "output_type": "stream",
     "text": [
      "Index(['game_player_id', 'game_id', 'game', 'round', 'phase', 'season_code',\n",
      "       'player_id', 'is_starter', 'is_playing', 'team_id', 'dorsal', 'player',\n",
      "       'minutes', 'points', 'two_points_made', 'two_points_attempted',\n",
      "       'three_points_made', 'three_points_attempted', 'free_throws_made',\n",
      "       'free_throws_attempted', 'offensive_rebounds', 'defensive_rebounds',\n",
      "       'total_rebounds', 'assists', 'steals', 'turnovers', 'blocks_favour',\n",
      "       'blocks_against', 'fouls_committed', 'fouls_received', 'valuation',\n",
      "       'plus_minus'],\n",
      "      dtype='object')\n"
     ]
    }
   ],
   "source": [
    "# exploring columns\n",
    "print(df.columns)"
   ]
  },
  {
   "cell_type": "markdown",
   "metadata": {},
   "source": [
    "Identify missing values in each column to determine how to handle them for a complete dataset."
   ]
  },
  {
   "cell_type": "code",
   "execution_count": 16,
   "metadata": {},
   "outputs": [
    {
     "name": "stdout",
     "output_type": "stream",
     "text": [
      "Missing values in all columns:\n",
      "game_player_id            0\n",
      "game_id                   0\n",
      "game                      0\n",
      "round                     0\n",
      "phase                     0\n",
      "season_code               0\n",
      "player_id                 0\n",
      "is_starter                0\n",
      "is_playing                0\n",
      "team_id                   0\n",
      "dorsal                    0\n",
      "player                    0\n",
      "minutes                   2\n",
      "points                    0\n",
      "two_points_made           0\n",
      "two_points_attempted      0\n",
      "three_points_made         0\n",
      "three_points_attempted    0\n",
      "free_throws_made          0\n",
      "free_throws_attempted     0\n",
      "offensive_rebounds        0\n",
      "defensive_rebounds        0\n",
      "total_rebounds            0\n",
      "assists                   0\n",
      "steals                    0\n",
      "turnovers                 0\n",
      "blocks_favour             0\n",
      "blocks_against            0\n",
      "fouls_committed           0\n",
      "fouls_received            0\n",
      "valuation                 0\n",
      "plus_minus                0\n",
      "dtype: int64\n"
     ]
    }
   ],
   "source": [
    "# check for missing values \n",
    "missing_values_all = df.isnull().sum()\n",
    "print(\"Missing values in all columns:\")\n",
    "print(missing_values_all)"
   ]
  },
  {
   "cell_type": "markdown",
   "metadata": {},
   "source": [
    "Transform the 'minutes' column (in 'MM:SS' format or 'DNP') into a numerical 'total_seconds' column for quantitative analysis."
   ]
  },
  {
   "cell_type": "code",
   "execution_count": 17,
   "metadata": {},
   "outputs": [],
   "source": [
    "# create a new column with total seconds played from 'minutes' column \n",
    "\n",
    "# replace empty strings with NaN \n",
    "df.loc[:, 'minutes'] = df['minutes'].replace('', pd.NA)\n",
    "# replace 'DNP' with NaN\n",
    "df.loc[:, 'minutes'] = df['minutes'].replace('DNP', pd.NA)\n",
    "# fill missing values with a default value ('00:00')\n",
    "df.loc[:, 'minutes'] = df['minutes'].fillna('00:00')\n",
    "\n",
    "# function to convert MM:SS to total seconds (int)\n",
    "def mm_ss_to_seconds(time_str):\n",
    "    try:\n",
    "        minutes, seconds = map(int, time_str.split(':'))\n",
    "        return (minutes * 60) + seconds  # convert minutes to seconds and add seconds\n",
    "    except (ValueError, AttributeError):\n",
    "        return None  # handle invalid or missing values\n",
    "\n",
    "\n",
    "df.loc[:, 'total_seconds'] = df['minutes'].apply(mm_ss_to_seconds)"
   ]
  },
  {
   "cell_type": "markdown",
   "metadata": {},
   "source": [
    "Detect duplicate rows based on 'game', 'round', and 'player' to ensure each player’s performance is recorded once per game and round."
   ]
  },
  {
   "cell_type": "code",
   "execution_count": 18,
   "metadata": {},
   "outputs": [
    {
     "name": "stdout",
     "output_type": "stream",
     "text": [
      "Empty DataFrame\n",
      "Columns: [game_player_id, game_id, game, round, phase, season_code, player_id, is_starter, is_playing, team_id, dorsal, player, minutes, points, two_points_made, two_points_attempted, three_points_made, three_points_attempted, free_throws_made, free_throws_attempted, offensive_rebounds, defensive_rebounds, total_rebounds, assists, steals, turnovers, blocks_favour, blocks_against, fouls_committed, fouls_received, valuation, plus_minus, total_seconds]\n",
      "Index: []\n",
      "\n",
      "[0 rows x 33 columns]\n"
     ]
    }
   ],
   "source": [
    "# check for duplicate rows\n",
    "duplicates = df[df.duplicated(subset=['game', 'round', 'player'], keep=False)]\n",
    "print(duplicates)"
   ]
  },
  {
   "cell_type": "markdown",
   "metadata": {},
   "source": [
    "Check unique values in 'game', 'phase', and 'player' columns for consistency (e.g., no typos or format variations)."
   ]
  },
  {
   "cell_type": "code",
   "execution_count": 26,
   "metadata": {},
   "outputs": [
    {
     "name": "stdout",
     "output_type": "stream",
     "text": [
      "['MAD-PAR' 'PAR-MAD' 'ULK-PAR' 'PAR-OLY' 'BAR-PAR' 'ZAL-PAR' 'PAR-BAS'\n",
      " 'TEL-PAR' 'PAM-PAR' 'MCO-PAR' 'RED-PAR' 'ASV-PAR' 'PAR-TEL' 'PAR-ASV'\n",
      " 'PAR-PAM' 'PAR-PAN' 'PAR-MUN' 'VIR-PAR' 'PAR-BER' 'PAR-RED' 'BAS-PAR'\n",
      " 'MUN-PAR' 'OLY-PAR' 'IST-PAR' 'PAN-PAR' 'PAR-ULK' 'PAR-BAR' 'BER-PAR'\n",
      " 'PAR-MIL' 'PAR-IST' 'PAR-VIR' 'MIL-PAR' 'PAR-ZAL' 'PAR-MCO']\n",
      "['PLAYOFFS' 'REGULAR SEASON']\n",
      "['Punter Kevin' 'Vukcevic Tristan' 'Leday Zach' 'Koprivica Balsa'\n",
      " 'Smailagic Alen' 'Papapetrou Ioannis' 'Lessort Mathias' 'Trifunovic Uros'\n",
      " 'Madar Yam' 'PARTIZAN MOZZART BET BELGRADE' 'Avramovic Aleksa'\n",
      " 'Brodziansky Vladimir' 'Glas Gregor' 'Jovanovic Dordje' 'Andjusic Danilo'\n",
      " 'Nunnally James' 'Exum Dante']\n"
     ]
    }
   ],
   "source": [
    "# check unique values for categorical columns to ensure that categorical columns have consistent formats\n",
    "print(df['game'].unique())\n",
    "print(df['phase'].unique())\n",
    "print(df['player'].unique())"
   ]
  },
  {
   "cell_type": "markdown",
   "metadata": {},
   "source": [
    "Reformat player names for readability and consistency (e.g., 'LEDAY, ZACH' → 'Leday Zach')."
   ]
  },
  {
   "cell_type": "code",
   "execution_count": 20,
   "metadata": {},
   "outputs": [],
   "source": [
    "# edit player names for better readability\n",
    "df['player'] = df['player'].replace({\n",
    "    'MADAR, YAM' : 'Madar Yam',\n",
    "    'LEDAY, ZACH' : 'Leday Zach',\n",
    "    'TRIFUNOVIC, UROS' : 'Trifunovic Uros',\n",
    "    'NUNNALLY, JAMES WILLIAM' : 'Nunnally James',\n",
    "    'ANDUSIC, DANILO' : 'Andjusic Danilo',\n",
    "    'EXUM, DANTE LIMAN' : 'Exum Dante',\n",
    "    'LESSORT, MATHIAS' : 'Lessort Mathias',\n",
    "    'PAPAPETROU, IOANNIS' : 'Papapetrou Ioannis',\n",
    "    'PUNTER, KEVIN  XAVIER' : 'Punter Kevin',\n",
    "    'VUKCEVIC, TRISTAN' : 'Vukcevic Tristan',\n",
    "    'SMAILAGIC, ALEN' : 'Smailagic Alen',\n",
    "    'AVRAMOVIC, ALEKSA' : 'Avramovic Aleksa',\n",
    "    'GLAS, GREGOR' : 'Glas Gregor',\n",
    "    'KOPRIVICA, BALSA' : 'Koprivica Balsa',\n",
    "    'BRODZIANSKY, VLADIMIR' : 'Brodziansky Vladimir',\n",
    "    'JOVANOVIC, DORDIJE' : 'Jovanovic Dordje',\n",
    "})"
   ]
  },
  {
   "cell_type": "markdown",
   "metadata": {},
   "source": [
    "Convert 'is_starter' and 'is_playing' columns from float (1.0, 0.0) to boolean (True, False) for clarity."
   ]
  },
  {
   "cell_type": "code",
   "execution_count": 21,
   "metadata": {},
   "outputs": [],
   "source": [
    "# Convert float64 with (1.0 and 0.0 values) to bool (True and False)\n",
    "df['is_starter'] = df['is_starter'].astype(bool)\n",
    "df['is_playing'] = df['is_playing'].astype(bool)"
   ]
  },
  {
   "cell_type": "markdown",
   "metadata": {},
   "source": [
    "Ensure 'total_seconds' and 'is_playing' align logically (e.g., 'total_seconds' == 0 should mean 'is_playing' == False), noting exceptions like technical fouls."
   ]
  },
  {
   "cell_type": "code",
   "execution_count": 22,
   "metadata": {},
   "outputs": [
    {
     "name": "stdout",
     "output_type": "stream",
     "text": [
      "        game_player_id    game_id     game  round     phase season_code  \\\n",
      "189  E2022_313_P009212  E2022_313  MAD-PAR     36  PLAYOFFS       E2022   \n",
      "406  E2022_313_P000956  E2022_313  MAD-PAR     36  PLAYOFFS       E2022   \n",
      "\n",
      "    player_id  is_starter  is_playing team_id  ... assists steals turnovers  \\\n",
      "189   P009212       False        True     PAR  ...       0      0         0   \n",
      "406   P000956       False        True     PAR  ...       0      0         0   \n",
      "\n",
      "     blocks_favour  blocks_against  fouls_committed  fouls_received  \\\n",
      "189              0               0                1               0   \n",
      "406              0               0                1               0   \n",
      "\n",
      "     valuation  plus_minus  total_seconds  \n",
      "189         -1           0              0  \n",
      "406         -1           0              0  \n",
      "\n",
      "[2 rows x 33 columns]\n",
      "Reason: this behavior is consequence of foul committed on the bench or a technical foul\n"
     ]
    }
   ],
   "source": [
    "# check for logical inconsistencies \n",
    "def check_inconsistencies():\n",
    "    inconsistencies_is_playing_true = df[(df['total_seconds'] == 0) & (df['is_playing'] == True)]\n",
    "    inconsistencies_is_playing_false = df[(df['total_seconds'] != 0) & (df['is_playing'] == False)]\n",
    "    \n",
    "    if inconsistencies_is_playing_true.empty and inconsistencies_is_playing_false.empty:\n",
    "        print('No inconsistencies found')\n",
    "        \n",
    "    if not inconsistencies_is_playing_true.empty:\n",
    "        print(inconsistencies_is_playing_true)\n",
    "        print('Reason: this behavior is consequence of foul committed on the bench or a technical foul') \n",
    "    \n",
    "    if not inconsistencies_is_playing_false.empty:\n",
    "        print(inconsistencies_is_playing_false)\n",
    "        print('Reason: this behavior is consequence of foul committed on the bench or a technical foul')\n",
    "        \n",
    "check_inconsistencies()"
   ]
  },
  {
   "cell_type": "markdown",
   "metadata": {},
   "source": [
    "Confirm all columns have appropriate data types for analysis."
   ]
  },
  {
   "cell_type": "code",
   "execution_count": 23,
   "metadata": {},
   "outputs": [
    {
     "name": "stdout",
     "output_type": "stream",
     "text": [
      "game_player_id            object\n",
      "game_id                   object\n",
      "game                      object\n",
      "round                      int64\n",
      "phase                     object\n",
      "season_code               object\n",
      "player_id                 object\n",
      "is_starter                  bool\n",
      "is_playing                  bool\n",
      "team_id                   object\n",
      "dorsal                    object\n",
      "player                    object\n",
      "minutes                   object\n",
      "points                     int64\n",
      "two_points_made            int64\n",
      "two_points_attempted       int64\n",
      "three_points_made          int64\n",
      "three_points_attempted     int64\n",
      "free_throws_made           int64\n",
      "free_throws_attempted      int64\n",
      "offensive_rebounds         int64\n",
      "defensive_rebounds         int64\n",
      "total_rebounds             int64\n",
      "assists                    int64\n",
      "steals                     int64\n",
      "turnovers                  int64\n",
      "blocks_favour              int64\n",
      "blocks_against             int64\n",
      "fouls_committed            int64\n",
      "fouls_received             int64\n",
      "valuation                  int64\n",
      "plus_minus                 int64\n",
      "total_seconds              int64\n",
      "dtype: object\n"
     ]
    }
   ],
   "source": [
    "# check data types to ensure that all columns have the correct data type\n",
    "print(df.dtypes)"
   ]
  },
  {
   "cell_type": "markdown",
   "metadata": {},
   "source": [
    "Drop irrelevant columns to simplify the dataset for analysis."
   ]
  },
  {
   "cell_type": "code",
   "execution_count": 24,
   "metadata": {},
   "outputs": [],
   "source": [
    "# drop unnecessary columns\n",
    "df = df.drop(columns=['player_id', 'game_player_id', 'game_id', 'season_code', 'team_id', 'dorsal'])"
   ]
  },
  {
   "cell_type": "markdown",
   "metadata": {},
   "source": [
    "Export the cleaned dataset to CSV and Excel files for future use."
   ]
  },
  {
   "cell_type": "code",
   "execution_count": 25,
   "metadata": {},
   "outputs": [
    {
     "name": "stdout",
     "output_type": "stream",
     "text": [
      "Data saved to partizan_2022_cleaned.csv\n"
     ]
    },
    {
     "name": "stdout",
     "output_type": "stream",
     "text": [
      "Data saved to partizan_2022_cleaned.xlsx\n"
     ]
    }
   ],
   "source": [
    "# save the cleaned data to a new csv file\n",
    "df.to_csv('partizan_2022_cleaned.csv', index=False)\n",
    "print('Data saved to partizan_2022_cleaned.csv')\n",
    "\n",
    "# save the cleaned data to a new excel file\n",
    "df.to_excel('partizan_2022_cleaned.xlsx', index=False)\n",
    "print('Data saved to partizan_2022_cleaned.xlsx')\n",
    "\n"
   ]
  },
  {
   "cell_type": "markdown",
   "metadata": {},
   "source": [
    "## Conclusion\n",
    "The raw dataset is now cleaned - missing values handled, formats standardized, inconsistencies checked, and unnecessary columns dropped. The cleaned data is saved and ready for validation or analysis."
   ]
  }
 ],
 "metadata": {
  "kernelspec": {
   "display_name": "python_developer",
   "language": "python",
   "name": "python3"
  },
  "language_info": {
   "codemirror_mode": {
    "name": "ipython",
    "version": 3
   },
   "file_extension": ".py",
   "mimetype": "text/x-python",
   "name": "python",
   "nbconvert_exporter": "python",
   "pygments_lexer": "ipython3",
   "version": "3.11.10"
  }
 },
 "nbformat": 4,
 "nbformat_minor": 2
}
