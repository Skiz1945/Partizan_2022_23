{
 "cells": [
  {
   "cell_type": "markdown",
   "metadata": {},
   "source": [
    "# Data Validation\n",
    "\n",
    "## Overview\n",
    "This notebook validates the cleaned dataset (`partizan_2022_cleaned.csv`) to ensure its accuracy and reliability for further analysis. It performs a series of checks on the 2022-2023 EuroLeague season data for Partizan Mozzart Bet Belgrade, including:\n",
    "- Comparing key metrics (e.g., points, assists) between summed player stats and team totals to confirm they match where expected.\n",
    "- Investigating discrepancies in stats like rebounds and turnovers, which may differ due to basketball-specific recording practices.\n",
    "- Verifying internal consistency, such as ensuring total rebounds equal the sum of offensive and defensive rebounds.\n",
    "- Validating complex calculations, including field goal points and the Performance Index Rating (PIR).\n",
    "\n",
    "These steps ensure the dataset is trustworthy for subsequent analyses, such as efficiency metrics or trend evaluations."
   ]
  },
  {
   "cell_type": "code",
   "execution_count": 12,
   "metadata": {},
   "outputs": [],
   "source": [
    "import pandas as pd\n",
    "\n",
    "file_path = \"../data/partizan_2022_cleaned.csv\"\n",
    "\n",
    "df = pd.read_csv(file_path)"
   ]
  },
  {
   "cell_type": "markdown",
   "metadata": {},
   "source": [
    "Display a summary of the DataFrame to confirm its structure and ensure the data loaded correctly. "
   ]
  },
  {
   "cell_type": "code",
   "execution_count": 13,
   "metadata": {},
   "outputs": [
    {
     "name": "stdout",
     "output_type": "stream",
     "text": [
      "<class 'pandas.core.frame.DataFrame'>\n",
      "RangeIndex: 500 entries, 0 to 499\n",
      "Data columns (total 27 columns):\n",
      " #   Column                  Non-Null Count  Dtype \n",
      "---  ------                  --------------  ----- \n",
      " 0   game                    500 non-null    object\n",
      " 1   round                   500 non-null    int64 \n",
      " 2   phase                   500 non-null    object\n",
      " 3   is_starter              500 non-null    bool  \n",
      " 4   is_playing              500 non-null    bool  \n",
      " 5   player                  500 non-null    object\n",
      " 6   minutes                 500 non-null    object\n",
      " 7   points                  500 non-null    int64 \n",
      " 8   two_points_made         500 non-null    int64 \n",
      " 9   two_points_attempted    500 non-null    int64 \n",
      " 10  three_points_made       500 non-null    int64 \n",
      " 11  three_points_attempted  500 non-null    int64 \n",
      " 12  free_throws_made        500 non-null    int64 \n",
      " 13  free_throws_attempted   500 non-null    int64 \n",
      " 14  offensive_rebounds      500 non-null    int64 \n",
      " 15  defensive_rebounds      500 non-null    int64 \n",
      " 16  total_rebounds          500 non-null    int64 \n",
      " 17  assists                 500 non-null    int64 \n",
      " 18  steals                  500 non-null    int64 \n",
      " 19  turnovers               500 non-null    int64 \n",
      " 20  blocks_favour           500 non-null    int64 \n",
      " 21  blocks_against          500 non-null    int64 \n",
      " 22  fouls_committed         500 non-null    int64 \n",
      " 23  fouls_received          500 non-null    int64 \n",
      " 24  valuation               500 non-null    int64 \n",
      " 25  plus_minus              500 non-null    int64 \n",
      " 26  total_seconds           500 non-null    int64 \n",
      "dtypes: bool(2), int64(21), object(4)\n",
      "memory usage: 98.8+ KB\n",
      "None\n"
     ]
    }
   ],
   "source": [
    "print(df.info())"
   ]
  },
  {
   "cell_type": "markdown",
   "metadata": {},
   "source": [
    "Separate the dataset into team totals and individual player statistics to enable comparison between the two."
   ]
  },
  {
   "cell_type": "code",
   "execution_count": 14,
   "metadata": {},
   "outputs": [],
   "source": [
    "# filter\n",
    "partizan_team = df[df['player'] == 'PARTIZAN MOZZART BET BELGRADE'].copy()\n",
    "partizan_players = df[df['player'] != 'PARTIZAN MOZZART BET BELGRADE'].copy()"
   ]
  },
  {
   "cell_type": "markdown",
   "metadata": {},
   "source": [
    "Confirm that certain metrics - where player sums should exactly equal team totals (e.g., points, assists) - are consistent across the dataset."
   ]
  },
  {
   "cell_type": "code",
   "execution_count": 15,
   "metadata": {},
   "outputs": [
    {
     "name": "stdout",
     "output_type": "stream",
     "text": [
      "All metrics that should match perfectly are matching perfectly\n"
     ]
    }
   ],
   "source": [
    "# cross-check team totals against the sum of individual player stats for accuracy\n",
    "partizan_team = df[df['player'] == 'PARTIZAN MOZZART BET BELGRADE'].copy()\n",
    "partizan_players = df[df['player'] != 'PARTIZAN MOZZART BET BELGRADE'].copy()\n",
    "\n",
    "\n",
    "# focus on metrics that should match perfectly\n",
    "# total_seconds\n",
    "partizan_players_total_seconds = partizan_players['total_seconds'].sum()\n",
    "partizan_team_total_seconds = partizan_team['total_seconds'].sum() \n",
    "\n",
    "# points\n",
    "partizan_players_total_points = partizan_players['points'].sum()\n",
    "partizan_team_total_points = partizan_team['points'].sum()\n",
    "\n",
    "# assists\n",
    "partizan_players_total_assists = partizan_players['assists'].sum()\n",
    "partizan_team_total_assists = partizan_team['assists'].sum()\n",
    "\n",
    "# free throws made \n",
    "partizan_players_ft_made = partizan_players['free_throws_made'].sum()\n",
    "partizan_team_ft_made = partizan_team['free_throws_made'].sum()\n",
    "\n",
    "# free throws attempted\n",
    "partizan_players_ft_attempted = partizan_players['free_throws_attempted'].sum()\n",
    "partizan_team_ft_attempted = partizan_team['free_throws_attempted'].sum()\n",
    "\n",
    "# fouls committed \n",
    "partizan_players_fouls_committed = partizan_players['fouls_committed'].sum()\n",
    "partizan_team_fouls_committed = partizan_team['fouls_committed'].sum()\n",
    "\n",
    "# fouls received\n",
    "partizan_players_fouls_received = partizan_players['fouls_received'].sum()\n",
    "partizan_team_fouls_received = partizan_team['fouls_received'].sum()\n",
    "\n",
    "\n",
    "\n",
    "def check_metrics():\n",
    "    if (partizan_players_total_seconds == partizan_team_total_seconds and\n",
    "        partizan_players_total_points == partizan_team_total_points and\n",
    "        partizan_players_total_assists == partizan_team_total_assists and\n",
    "        partizan_players_ft_made == partizan_team_ft_made and\n",
    "        partizan_players_ft_attempted == partizan_team_ft_attempted and\n",
    "        partizan_players_fouls_committed == partizan_team_fouls_committed and\n",
    "        partizan_players_fouls_received == partizan_team_fouls_received):\n",
    "        print(\"All metrics that should match perfectly are matching perfectly\")\n",
    "    else:\n",
    "        print(\"All metrics that should match perfectly are not matching perfectly\")\n",
    "        \n",
    "\n",
    "check_metrics()"
   ]
  },
  {
   "cell_type": "markdown",
   "metadata": {},
   "source": [
    "Examine metrics (e.g., rebounds, steals, turnovers) where discrepancies between player sums and team totals are expected due to basketball recording practices, and explain any differences."
   ]
  },
  {
   "cell_type": "code",
   "execution_count": 16,
   "metadata": {},
   "outputs": [
    {
     "name": "stdout",
     "output_type": "stream",
     "text": [
      "Total rebounds are not matching perfectly, Reason: Team rebounds (e.g., dead-ball rebounds not attributed to any player) are included in the team total but not in individual stats.\n",
      "Total turnovers are not matching perfectly, Reason: Team turnovers (e.g., shot-clock violations, 8-second violations) are counted in the team total but not assigned to individual players.\n"
     ]
    }
   ],
   "source": [
    "# discrepancies in other stats may reflect inherent differences in how team vs. player stats are recorded.\n",
    "partizan_players_total_rebounds = partizan_players['total_rebounds'].sum()\n",
    "partizan_team_total_rebounds = partizan_team['total_rebounds'].sum()\n",
    "\n",
    "partizan_players_total_steals = partizan_players['steals'].sum()\n",
    "partizan_team_total_steals = partizan_team['steals'].sum()\n",
    "\n",
    "partizan_players_total_turnovers = partizan_players['turnovers'].sum()\n",
    "partizan_team_total_turnovers = partizan_team['turnovers'].sum()\n",
    "\n",
    "\n",
    "\n",
    "def check_and_explain_metrics():\n",
    "    if (partizan_players_total_rebounds == partizan_team_total_rebounds and\n",
    "        partizan_players_total_steals == partizan_team_total_steals and\n",
    "        partizan_players_total_turnovers == partizan_team_total_turnovers):\n",
    "        print(\"All metrics are matching perfectly\")\n",
    "    if (partizan_players_total_rebounds != partizan_team_total_rebounds):\n",
    "        print(\"Total rebounds are not matching perfectly, Reason: Team rebounds (e.g., dead-ball rebounds not attributed to any player) are included in the team total but not in individual stats.\")\n",
    "    if (partizan_players_total_steals != partizan_team_total_steals):\n",
    "        print('Total steals are not matching perfectly, Reason: Discrepancy likely due to \"team steals\" (e.g., deflections not credited to a specific player) in the team total.')\n",
    "    if (partizan_players_total_turnovers != partizan_team_total_turnovers):\n",
    "        print(\"Total turnovers are not matching perfectly, Reason: Team turnovers (e.g., shot-clock violations, 8-second violations) are counted in the team total but not assigned to individual players.\")\n",
    "\n",
    "check_and_explain_metrics()\n",
    "\n"
   ]
  },
  {
   "cell_type": "markdown",
   "metadata": {},
   "source": [
    "Ensure that the total rebounds for each row in the dataset equal the sum of offensive and defensive rebounds, checking internal data consistency."
   ]
  },
  {
   "cell_type": "code",
   "execution_count": 17,
   "metadata": {},
   "outputs": [
    {
     "name": "stdout",
     "output_type": "stream",
     "text": [
      "Rebound totals consistent with offensive/defensive splits.\n"
     ]
    }
   ],
   "source": [
    "# check if total_rebounds = offensive + defensive rebounds\n",
    "df['calculated_total_rebounds'] = df['offensive_rebounds'] + df['defensive_rebounds']\n",
    "inconsistent_rebounds = df[df['total_rebounds'] != df['calculated_total_rebounds']]\n",
    "if not inconsistent_rebounds.empty:\n",
    "    print(\"Rebound totals inconsistent with offensive/defensive splits!\")\n",
    "else:\n",
    "    print(\"Rebound totals consistent with offensive/defensive splits.\")\n",
    "    \n",
    "# drop the calculated_total_rebounds column    \n",
    "df.drop(columns=['calculated_total_rebounds'], inplace=True)"
   ]
  },
  {
   "cell_type": "markdown",
   "metadata": {},
   "source": [
    "Quantify the differences between team totals and player sums for rebounds and turnovers to measure \"team\" contributions not attributed to individual players."
   ]
  },
  {
   "cell_type": "code",
   "execution_count": 18,
   "metadata": {},
   "outputs": [
    {
     "name": "stdout",
     "output_type": "stream",
     "text": [
      "Unassigned team rebounds: 135\n",
      "Unassigned team turnovers: 30\n"
     ]
    }
   ],
   "source": [
    "# calculate the difference to see how many \"team rebounds\" are included in the team total but not in individual stats\n",
    "rebound_difference = partizan_team_total_rebounds - partizan_players_total_rebounds\n",
    "print(f\"Unassigned team rebounds: {rebound_difference}\")\n",
    "\n",
    "# calculate the difference to see how many \"team turnovers\" are counted in the team total but not assigned to individual players\n",
    "turnover_difference = partizan_team_total_turnovers - partizan_players_total_turnovers\n",
    "print(f\"Unassigned team turnovers: {turnover_difference}\")\n"
   ]
  },
  {
   "cell_type": "markdown",
   "metadata": {},
   "source": [
    "Verify that points from field goals (2-pointers and 3-pointers) align with total points minus free throws, ensuring accuracy for both players and the team."
   ]
  },
  {
   "cell_type": "code",
   "execution_count": 19,
   "metadata": {},
   "outputs": [
    {
     "name": "stdout",
     "output_type": "stream",
     "text": [
      "Field goals are accurate for all players and team totals.\n"
     ]
    }
   ],
   "source": [
    "def validate_field_goals():\n",
    "    \"\"\"Validates field goal points consistency for players and team.\"\"\"\n",
    "    # player field goal points vs. points minus free throws\n",
    "    field_goal_points = partizan_players['two_points_made'] * 2 + partizan_players['three_points_made'] * 3\n",
    "    points_minus_ft = partizan_players['points'] - partizan_players['free_throws_made']\n",
    "    player_errors = partizan_players[field_goal_points != points_minus_ft]\n",
    "\n",
    "    # team field goal points vs. team points minus free throws\n",
    "    team_field_goal_points = (partizan_players['two_points_made'].sum() * 2) + (partizan_players['three_points_made'].sum() * 3)\n",
    "    team_points_minus_ft = partizan_team['points'].sum() - partizan_players['free_throws_made'].sum()\n",
    "    team_discrepancy = team_field_goal_points - team_points_minus_ft\n",
    "\n",
    "    if player_errors.empty and team_discrepancy == 0:\n",
    "        print(\"Field goals are accurate for all players and team totals.\")\n",
    "    else:\n",
    "        if not player_errors.empty:\n",
    "            print(\"Player field goal discrepancies found:\")\n",
    "            print(player_errors[['player', 'points', 'two_points_made', 'three_points_made', 'free_throws_made']])\n",
    "        if team_discrepancy != 0:\n",
    "            print(f\"Team field goals mismatch: Expected {team_field_goal_points}, got {team_points_minus_ft} (difference: {team_discrepancy}).\")\n",
    "            \n",
    "validate_field_goals()"
   ]
  },
  {
   "cell_type": "markdown",
   "metadata": {},
   "source": [
    "Ensure that for each game, the sum of player stats matches the team totals for points, assists, and total seconds, validating consistency on a game-by-game basis."
   ]
  },
  {
   "cell_type": "code",
   "execution_count": 20,
   "metadata": {},
   "outputs": [
    {
     "name": "stdout",
     "output_type": "stream",
     "text": [
      "Team totals match players sums for all metrics in all games.\n"
     ]
    }
   ],
   "source": [
    "# for each game, check team totals vs. player sums\n",
    "games = df['game'].unique()\n",
    "all_metrics_match = True\n",
    "\n",
    "for game in games:\n",
    "    game_data = df[df['game'] == game]\n",
    "    team_row = game_data[game_data['player'] == 'PARTIZAN MOZZART BET BELGRADE']\n",
    "    players_in_game = game_data[game_data['player'] != 'PARTIZAN MOZZART BET BELGRADE']\n",
    "    \n",
    "    # check points\n",
    "    if team_row['points'].sum() != players_in_game['points'].sum():\n",
    "        print(f\"Points mismatch in game {game}\")\n",
    "        all_metrics_match = False\n",
    "    \n",
    "    # check assists\n",
    "    if team_row['assists'].sum() != players_in_game['assists'].sum():\n",
    "        print(f\"Assists mismatch in game {game}\")\n",
    "        all_metrics_match = False\n",
    "        \n",
    "    # check seconds\n",
    "    if team_row['total_seconds'].sum() != players_in_game['total_seconds'].sum():\n",
    "        print(f\"Seconds mismatch in game {game}\")\n",
    "        all_metrics_match = False\n",
    "    \n",
    "\n",
    "\n",
    "if all_metrics_match:\n",
    "    print(\"Team totals match players sums for all metrics in all games.\")"
   ]
  },
  {
   "cell_type": "markdown",
   "metadata": {},
   "source": [
    "Confirm that the Performance Index Rating (PIR) - a composite performance metric - is calculated correctly for both players and the team using the EuroLeague formula."
   ]
  },
  {
   "cell_type": "code",
   "execution_count": 21,
   "metadata": {},
   "outputs": [
    {
     "name": "stdout",
     "output_type": "stream",
     "text": [
      "Valuation is accurate for all players.\n",
      "Valuation is accurate for the team.\n"
     ]
    }
   ],
   "source": [
    "def validate_valuation():\n",
    "    \"\"\"Validates player PIR (Performance Index Rating) \n",
    "    (points + rebounds + assists + steals + blocks + fouls drawn)\n",
    "    - (missed field goals + missed free throws + turnovers + shot rejected + fouls committed)\"\"\"\n",
    "    \n",
    "    # calculate missed shots for players\n",
    "    partizan_players.loc[:, 'missed_field_goals'] = (\n",
    "        (partizan_players['two_points_attempted'] - partizan_players['two_points_made']) +\n",
    "        (partizan_players['three_points_attempted'] - partizan_players['three_points_made'])\n",
    "    )\n",
    "    partizan_players.loc[:, 'missed_free_throws'] = (\n",
    "        partizan_players['free_throws_attempted'] - partizan_players['free_throws_made']\n",
    "    )\n",
    "\n",
    "    # calculate missed shots for team\n",
    "    partizan_team.loc[:, 'missed_field_goals'] = (\n",
    "        (partizan_team['two_points_attempted'] - partizan_team['two_points_made']) +\n",
    "        (partizan_team['three_points_attempted'] - partizan_team['three_points_made'])\n",
    "    )\n",
    "    partizan_team.loc[:, 'missed_free_throws'] = (\n",
    "        partizan_team['free_throws_attempted'] - partizan_team['free_throws_made']\n",
    "    )\n",
    "\n",
    "    # calculate expected valuation for players\n",
    "    expected_player_valuation = (\n",
    "        partizan_players['points'] +\n",
    "        partizan_players['total_rebounds'] + \n",
    "        partizan_players['assists'] + \n",
    "        partizan_players['steals'] + \n",
    "        partizan_players['blocks_favour'] + \n",
    "        partizan_players['fouls_received'] -\n",
    "        (\n",
    "            partizan_players['missed_field_goals'] +\n",
    "            partizan_players['missed_free_throws'] + \n",
    "            partizan_players['turnovers'] + \n",
    "            partizan_players['blocks_against'] + \n",
    "            partizan_players['fouls_committed']\n",
    "        )\n",
    "    )\n",
    "\n",
    "    # calculate expected valuation for team\n",
    "    expected_team_valuation = (\n",
    "        partizan_team['points'] +\n",
    "        partizan_team['total_rebounds'] + \n",
    "        partizan_team['assists'] + \n",
    "        partizan_team['steals'] + \n",
    "        partizan_team['blocks_favour'] + \n",
    "        partizan_team['fouls_received'] -\n",
    "        (\n",
    "            partizan_team['missed_field_goals'] +\n",
    "            partizan_team['missed_free_throws'] + \n",
    "            partizan_team['turnovers'] + \n",
    "            partizan_team['blocks_against'] + \n",
    "            partizan_team['fouls_committed']\n",
    "        )\n",
    "    )\n",
    "\n",
    "    # validate players and team valuation\n",
    "    player_validation = (partizan_players['valuation'] == expected_player_valuation).all()\n",
    "    team_validation = (partizan_team['valuation'] == expected_team_valuation).all()\n",
    "    \n",
    "    \n",
    "    \n",
    "    if player_validation:\n",
    "        print(\"Valuation is accurate for all players.\")\n",
    "    else:\n",
    "        print(\"Player valuation mismatch detected!\")\n",
    "        \n",
    "    if team_validation:\n",
    "        print(\"Valuation is accurate for the team.\")\n",
    "    else:\n",
    "        print(\"Team valuation mismatch detected!\")\n",
    "        \n",
    "    \n",
    "validate_valuation()"
   ]
  },
  {
   "cell_type": "markdown",
   "metadata": {},
   "source": [
    "## Conclusion\n",
    "\n",
    "### The validation process demonstrates that:\n",
    "\n",
    "- Metrics expected to match (e.g., points, assists) are consistent between player sums and team totals.\n",
    "- Discrepancies in rebounds (135 unassigned) and turnovers (30 unassigned) are explained by - basketball recording practices.\n",
    "- Internal checks, like rebound consistency, pass without issues.\n",
    "- Complex metrics, including field goal points and PIR, are accurately calculated.\n",
    "Per-game validations show no inconsistencies.\n",
    "\n",
    "##### The dataset partizan_2022_cleaned.csv is now validated and ready for advanced analyses."
   ]
  }
 ],
 "metadata": {
  "kernelspec": {
   "display_name": "python_developer",
   "language": "python",
   "name": "python3"
  },
  "language_info": {
   "codemirror_mode": {
    "name": "ipython",
    "version": 3
   },
   "file_extension": ".py",
   "mimetype": "text/x-python",
   "name": "python",
   "nbconvert_exporter": "python",
   "pygments_lexer": "ipython3",
   "version": "3.11.10"
  }
 },
 "nbformat": 4,
 "nbformat_minor": 2
}
