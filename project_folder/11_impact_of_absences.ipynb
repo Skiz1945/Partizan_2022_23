{
 "cells": [
  {
   "cell_type": "markdown",
   "metadata": {},
   "source": [
    "# Impact of Key Player Absences on Team and Individual Performance\n",
    "## Overview\n",
    "This analysis investigates the impact of absences of key players on the performance of Partizan Mozzart Bet Belgrade during the 2022/23 season. The dataset, sourced from `../data/partizan_2022_cleaned.csv`, contains game-by-game statistics for the team and individual players across 39 rounds. Key players are defined as the top five in total playing time, and their absences are analyzed to assess effects on team points and valuation."
   ]
  },
  {
   "cell_type": "code",
   "execution_count": 13,
   "metadata": {},
   "outputs": [],
   "source": [
    "import pandas as pd\n",
    "\n",
    "file_path = \"../data/partizan_2022_cleaned.csv\"\n",
    "\n",
    "df = pd.read_csv(file_path)"
   ]
  },
  {
   "cell_type": "code",
   "execution_count": 14,
   "metadata": {},
   "outputs": [],
   "source": [
    "# filter\n",
    "players = df[df['player'] != 'PARTIZAN MOZZART BET BELGRADE'].copy()\n",
    "team = df[df['player'] == 'PARTIZAN MOZZART BET BELGRADE'].copy()"
   ]
  },
  {
   "cell_type": "markdown",
   "metadata": {},
   "source": [
    "This separation enables focused analysis of individual contributions versus overall team performance, setting the foundation for identifying key players and their absences."
   ]
  },
  {
   "cell_type": "markdown",
   "metadata": {},
   "source": [
    "Key players are identified as the top five individuals with the most total playing time (measured in seconds)."
   ]
  },
  {
   "cell_type": "code",
   "execution_count": 15,
   "metadata": {},
   "outputs": [
    {
     "name": "stdout",
     "output_type": "stream",
     "text": [
      "Key Players Identified: ['Leday Zach', 'Lessort Mathias', 'Punter Kevin', 'Exum Dante', 'Nunnally James']\n"
     ]
    }
   ],
   "source": [
    "# aggregate total seconds per player\n",
    "player_totals = players.groupby(\"player\")[\"total_seconds\"].sum().sort_values(ascending=False)\n",
    "\n",
    "\n",
    "key_players = player_totals.head(5).index.tolist()\n",
    "print(\"Key Players Identified:\", key_players)"
   ]
  },
  {
   "cell_type": "markdown",
   "metadata": {},
   "source": [
    "The key players - Leday Zach, Lessort Mathias, Punter Kevin, Exum Dante, and Nunnally James - are the most utilized players, suggesting their absences could significantly influence team outcomes."
   ]
  },
  {
   "cell_type": "markdown",
   "metadata": {},
   "source": [
    "Absences are identified across all 39 game rounds by checking where key players either did not appear or had zero seconds played while not marked as playing."
   ]
  },
  {
   "cell_type": "code",
   "execution_count": 5,
   "metadata": {},
   "outputs": [
    {
     "name": "stdout",
     "output_type": "stream",
     "text": [
      "Total games (rounds): 39\n",
      "Leday Zach absences: 0\n",
      "Lessort Mathias absences: 1\n",
      "Punter Kevin absences: 2\n",
      "Exum Dante absences: 1\n",
      "Nunnally James absences: 2\n"
     ]
    }
   ],
   "source": [
    "# identify all games\n",
    "all_rounds = players['round'].unique()\n",
    "total_rounds = len(all_rounds)\n",
    "print(f\"Total games (rounds): {total_rounds}\")\n",
    "\n",
    "# create expected combinations\n",
    "expected_combinations = pd.DataFrame(\n",
    "    [(round_, player) for round_ in all_rounds for player in key_players],\n",
    "    columns=[\"round\", \"player\"]\n",
    ")\n",
    "\n",
    "# merge to track absences\n",
    "player_data = players[players['player'].isin(key_players)][['round', 'player', 'total_seconds', 'is_playing']]\n",
    "merged = expected_combinations.merge(player_data, on=['round', 'player'], how='left')\n",
    "\n",
    "# define absences: missing row OR (total_seconds == 0 AND is_playing == False)\n",
    "merged['is_absent'] = (merged['total_seconds'].isna()) | ((merged['total_seconds'] == 0) & (merged['is_playing'] == False))\n",
    "\n",
    "# count absences\n",
    "for player in key_players:\n",
    "    absences = merged[merged['player'] == player]['is_absent'].sum()\n",
    "    print(f\"{player} absences: {absences}\")"
   ]
  },
  {
   "cell_type": "markdown",
   "metadata": {},
   "source": [
    "### Interpretation\n",
    "\n",
    "- **LeDay, Zach**: No absences, indicating consistent availability.\n",
    "- **Lessort, Mathias and Exum, Dante**: Each missed 1 game.\n",
    "- **Punter, Kevin and Nunnally, James**: Each missed 2 games.\n",
    "\n",
    "With only 6 total absences across 39 games, the roster appears stable, but the impact of these absences can still be significant."
   ]
  },
  {
   "cell_type": "markdown",
   "metadata": {},
   "source": [
    "Team points are compared when each key player is present versus absent."
   ]
  },
  {
   "cell_type": "code",
   "execution_count": 6,
   "metadata": {},
   "outputs": [
    {
     "name": "stdout",
     "output_type": "stream",
     "text": [
      "\n",
      "Team Points - Leday Zach:\n",
      "Present: 85.44 points (n=39 games)\n",
      "Absent: No absences recorded\n",
      "\n",
      "Team Points - Lessort Mathias:\n",
      "Present: 85.58 points (n=38 games)\n",
      "Absent: 80.00 points (n=1 games)\n",
      "\n",
      "Team Points - Punter Kevin:\n",
      "Present: 85.78 points (n=37 games)\n",
      "Absent: 79.00 points (n=2 games)\n",
      "\n",
      "Team Points - Exum Dante:\n",
      "Present: 86.16 points (n=38 games)\n",
      "Absent: 58.00 points (n=1 games)\n",
      "\n",
      "Team Points - Nunnally James:\n",
      "Present: 85.35 points (n=37 games)\n",
      "Absent: 87.00 points (n=2 games)\n"
     ]
    }
   ],
   "source": [
    "# pivot to track absences per round\n",
    "absence_pivot = merged.pivot_table(\n",
    "    index=\"round\", \n",
    "    columns=\"player\", \n",
    "    values=\"is_absent\", \n",
    "    aggfunc=\"first\"\n",
    ").fillna(False)\n",
    "\n",
    "# merge with team data\n",
    "team_with_absences = team.merge(absence_pivot, on=\"round\", how=\"left\")\n",
    "\n",
    "\n",
    "# analyze team performance\n",
    "for player in key_players:\n",
    "    present_games = team_with_absences[team_with_absences[player] == False][\"points\"]\n",
    "    absent_games = team_with_absences[team_with_absences[player] == True][\"points\"]\n",
    "    print(f\"\\nTeam Points - {player}:\")\n",
    "    print(f\"Present: {present_games.mean():.2f} points (n={len(present_games)} games)\")\n",
    "    if len(absent_games) > 0:\n",
    "        print(f\"Absent: {absent_games.mean():.2f} points (n={len(absent_games)} games)\")\n",
    "    else:\n",
    "        print(f\"Absent: No absences recorded\")"
   ]
  },
  {
   "cell_type": "markdown",
   "metadata": {},
   "source": [
    "### Interpretation\n",
    "\n",
    "- **LeDay, Zach**: No absences, so the team averaged 85.44 points across all games with him.\n",
    "- **Lessort, Mathias**: Team scored 5.58 points less when absent (80.00 vs. 85.58).\n",
    "- **Punter, Kevin**: Team scored 6.78 points less when absent (79.00 vs. 85.78).\n",
    "- **Exum, Dante**: A significant drop of 28.16 points when absent (58.00 vs. 86.16), though based on one game.\n",
    "- **Nunnally, James**: Team scored slightly more when absent (87.00 vs. 85.35), but with only two games, this may not be conclusive.\n",
    "\n",
    "Absences generally reduce scoring, except for Nunnally, James, where the effect is neutral or slightly positive."
   ]
  },
  {
   "cell_type": "markdown",
   "metadata": {},
   "source": [
    "Team valuation (a composite performance metric) is compared when each key player is present versus absent."
   ]
  },
  {
   "cell_type": "code",
   "execution_count": 7,
   "metadata": {},
   "outputs": [
    {
     "name": "stdout",
     "output_type": "stream",
     "text": [
      "\n",
      "Team Valuation - Leday Zach:\n",
      "Present: 93.64 valuation (n=39 games)\n",
      "Absent: No absences recorded\n",
      "\n",
      "Team Valuation - Lessort Mathias:\n",
      "Present: 93.87 valuation (n=38 games)\n",
      "Absent: 85.00 valuation (n=1 games)\n",
      "\n",
      "Team Valuation - Punter Kevin:\n",
      "Present: 94.41 valuation (n=37 games)\n",
      "Absent: 79.50 valuation (n=2 games)\n",
      "\n",
      "Team Valuation - Exum Dante:\n",
      "Present: 94.68 valuation (n=38 games)\n",
      "Absent: 54.00 valuation (n=1 games)\n",
      "\n",
      "Team Valuation - Nunnally James:\n",
      "Present: 93.19 valuation (n=37 games)\n",
      "Absent: 102.00 valuation (n=2 games)\n"
     ]
    }
   ],
   "source": [
    "# pivot to track absences per round\n",
    "absence_pivot = merged.pivot_table(\n",
    "    index=\"round\", \n",
    "    columns=\"player\", \n",
    "    values=\"is_absent\", \n",
    "    aggfunc=\"first\"\n",
    ").fillna(False)\n",
    "\n",
    "# merge with team data\n",
    "team_with_absences = team.merge(absence_pivot, on=\"round\", how=\"left\")\n",
    "\n",
    "\n",
    "# analyze team performance\n",
    "for player in key_players:\n",
    "    present_games = team_with_absences[team_with_absences[player] == False][\"valuation\"]\n",
    "    absent_games = team_with_absences[team_with_absences[player] == True][\"valuation\"]\n",
    "    print(f\"\\nTeam Valuation - {player}:\")\n",
    "    print(f\"Present: {present_games.mean():.2f} valuation (n={len(present_games)} games)\")\n",
    "    if len(absent_games) > 0:\n",
    "        print(f\"Absent: {absent_games.mean():.2f} valuation (n={len(absent_games)} games)\")\n",
    "    else:\n",
    "        print(f\"Absent: No absences recorded\")"
   ]
  },
  {
   "cell_type": "markdown",
   "metadata": {},
   "source": [
    "### Interpretation\n",
    "\n",
    "- **LeDay, Zach**: No absences, with a consistent valuation of 93.64.\n",
    "- **Lessort, Mathias**: Valuation dropped by 8.87 when absent (85.00 vs. 93.87).\n",
    "- **Punter, Kevin**: Valuation decreased by 14.91 when absent (79.50 vs. 94.41).\n",
    "- **Exum, Dante**: A large drop of 40.68 in valuation when absent (54.00 vs. 94.68), though from one game.\n",
    "- **Nunnally, James**: Valuation increased by 8.81 when absent (102.00 vs. 93.19), mirroring the points trend.\n",
    "\n",
    "The pattern aligns with points, showing negative impacts from most absences, except for Nunnally, James."
   ]
  },
  {
   "cell_type": "markdown",
   "metadata": {},
   "source": [
    "Plot visualizes team valuation, comparing the average when each key player is present to individual games when they are absent."
   ]
  },
  {
   "cell_type": "code",
   "execution_count": 8,
   "metadata": {},
   "outputs": [
    {
     "data": {
      "image/png": "[encoded data removed]",
      "text/plain": [
       "<Figure size 1000x600 with 1 Axes>"
      ]
     },
     "metadata": {},
     "output_type": "display_data"
    }
   ],
   "source": [
    "import matplotlib.pyplot as plt\n",
    "import pandas as pd\n",
    "\n",
    "data = {\"Player\": [\"Leday Zach\", \"Lessort Mathias\", \"Punter Kevin\", \"Exum Dante\", \"Nunnally James\"],\n",
    "        \"Present Avg\": [93.64, 93.87, 94.41, 94.68, 93.19]}\n",
    "absent_games = {\"Leday Zach\": [], \"Lessort Mathias\": [85.0], \"Punter Kevin\": [78.0, 81.0],\n",
    "                \"Exum Dante\": [54.0], \"Nunnally James\": [100.0, 104.0]}\n",
    "df = pd.DataFrame(data)\n",
    "\n",
    "fig, ax = plt.subplots(figsize=(10, 6))\n",
    "colors = [\"blue\", \"green\", \"orange\", \"purple\", \"red\"]\n",
    "for i, (player, present) in enumerate(zip(df[\"Player\"], df[\"Present Avg\"])):\n",
    "    ax.scatter([0], [present], color=colors[i], label=player)\n",
    "    for absent_val in absent_games[player]:\n",
    "        ax.scatter([1], [absent_val], color=colors[i])\n",
    "        ax.plot([0, 1], [present, absent_val], color=colors[i], alpha=0.5)\n",
    "\n",
    "ax.set_xticks([0, 1])\n",
    "ax.set_xticklabels([\"Present (avg)\", \"Absent (games)\"])\n",
    "ax.set_ylabel(\"Team Valuation\")\n",
    "ax.set_title(\"Present Avg vs Individual Absent Games\", fontweight=\"bold\")\n",
    "ax.legend(bbox_to_anchor=(1.05, 1), loc=\"upper left\")\n",
    "plt.tight_layout()\n",
    "plt.show()"
   ]
  },
  {
   "cell_type": "markdown",
   "metadata": {},
   "source": [
    "### Outcome\n",
    "\n",
    "The plot shows each player’s average valuation when present (left) and valuations in absent games (right), connected by lines.\n",
    "\n",
    "The visualization highlights significant drops for Punter, Kevin and Exum, Dante, a moderate drop for Lessort, Mathias, and an increase for Nunnally, James, reinforcing earlier findings."
   ]
  },
  {
   "cell_type": "markdown",
   "metadata": {},
   "source": [
    "Zach Leday’s points are compared when other key players are present versus absent."
   ]
  },
  {
   "cell_type": "code",
   "execution_count": 9,
   "metadata": {},
   "outputs": [
    {
     "name": "stdout",
     "output_type": "stream",
     "text": [
      "\n",
      "Zach Leday’s Points when Lessort Mathias is:\n",
      "Present: 11.34 points (n=38 games)\n",
      "Absent: 15.00 points (n=1 games)\n",
      "\n",
      "Zach Leday’s Points when Punter Kevin is:\n",
      "Present: 10.97 points (n=37 games)\n",
      "Absent: 20.00 points (n=2 games)\n",
      "\n",
      "Zach Leday’s Points when Exum Dante is:\n",
      "Present: 11.58 points (n=38 games)\n",
      "Absent: 6.00 points (n=1 games)\n",
      "\n",
      "Zach Leday’s Points when Nunnally James is:\n",
      "Present: 11.65 points (n=37 games)\n",
      "Absent: 7.50 points (n=2 games)\n"
     ]
    }
   ],
   "source": [
    "# analyze Zach Leday’s performance (points)\n",
    "zach_data = players[players[\"player\"] == \"Leday Zach\"].merge(absence_pivot, on=\"round\", how=\"left\")\n",
    "for key_player in key_players:\n",
    "    if key_player == \"Leday Zach\":\n",
    "        continue\n",
    "    present_games = zach_data[zach_data[key_player] == False][\"points\"]\n",
    "    absent_games = zach_data[zach_data[key_player] == True][\"points\"]\n",
    "    print(f\"\\nZach Leday’s Points when {key_player} is:\")\n",
    "    print(f\"Present: {present_games.mean():.2f} points (n={len(present_games)} games)\")\n",
    "    if len(absent_games) > 0:\n",
    "        print(f\"Absent: {absent_games.mean():.2f} points (n={len(absent_games)} games)\")\n",
    "    else:\n",
    "        print(f\"Absent: No absences recorded for {key_player}\")"
   ]
  },
  {
   "cell_type": "markdown",
   "metadata": {},
   "source": [
    "### Interpretation  \n",
    "\n",
    "- **Lessort Mathias:** **Zach Leday**’s points rise slightly (15.00 vs. 11.34), but this is based on one game, limiting the reliability of the trend.  \n",
    "- **Punter Kevin:** **Zach Leday**’s points nearly double (20.00 vs. 10.97), suggesting a larger scoring role when Punter is absent.  \n",
    "- **Exum Dante:** **Zach Leday**’s points drop (6.00 vs. 11.58), possibly due to reduced facilitation without Exum’s playmaking.  \n",
    "- **Nunnally James:** **Zach Leday**’s points decrease (7.50 vs. 11.65), indicating reliance on Nunnally’s presence to create scoring opportunities.  \n",
    "\n",
    "**Zach Leday** adapts his scoring based on who is absent, particularly excelling without **Punter Kevin**."
   ]
  },
  {
   "cell_type": "markdown",
   "metadata": {},
   "source": [
    "Zach Leday’s valuation is compared when other key players are present versus absent."
   ]
  },
  {
   "cell_type": "code",
   "execution_count": 10,
   "metadata": {},
   "outputs": [
    {
     "name": "stdout",
     "output_type": "stream",
     "text": [
      "\n",
      "Zach Leday’s Valuation when Lessort Mathias is:\n",
      "Present: 13.89 valuation (n=38 games)\n",
      "Absent: 21.00 valuation (n=1 games)\n",
      "\n",
      "Zach Leday’s Valuation when Punter Kevin is:\n",
      "Present: 13.59 valuation (n=37 games)\n",
      "Absent: 23.00 valuation (n=2 games)\n",
      "\n",
      "Zach Leday’s Valuation when Exum Dante is:\n",
      "Present: 14.29 valuation (n=38 games)\n",
      "Absent: 6.00 valuation (n=1 games)\n",
      "\n",
      "Zach Leday’s Valuation when Nunnally James is:\n",
      "Present: 14.30 valuation (n=37 games)\n",
      "Absent: 10.00 valuation (n=2 games)\n"
     ]
    }
   ],
   "source": [
    "# analyze Zach Leday’s performance (valuation)\n",
    "zach_data = players[players[\"player\"] == \"Leday Zach\"].merge(absence_pivot, on=\"round\", how=\"left\")\n",
    "for key_player in key_players:\n",
    "    if key_player == \"Leday Zach\":\n",
    "        continue\n",
    "    present_games = zach_data[zach_data[key_player] == False][\"valuation\"]\n",
    "    absent_games = zach_data[zach_data[key_player] == True][\"valuation\"]\n",
    "    print(f\"\\nZach Leday’s Valuation when {key_player} is:\")\n",
    "    print(f\"Present: {present_games.mean():.2f} valuation (n={len(present_games)} games)\")\n",
    "    if len(absent_games) > 0:\n",
    "        print(f\"Absent: {absent_games.mean():.2f} valuation (n={len(absent_games)} games)\")\n",
    "    else:\n",
    "        print(f\"Absent: No absences recorded for {key_player}\")"
   ]
  },
  {
   "cell_type": "markdown",
   "metadata": {},
   "source": [
    "### Interpretation  \n",
    "\n",
    "- **Lessort Mathias:** **Zach Leday**’s valuation rises (21.00 vs. 13.89), though this is based on one game, limiting its reliability.  \n",
    "- **Punter Kevin:** **Zach Leday**’s valuation increases significantly (23.00 vs. 13.59), aligning with his points increase and suggesting a larger role without Punter.  \n",
    "- **Exum Dante:** **Zach Leday**’s valuation drops (6.00 vs. 14.29), consistent with his points decrease, possibly due to reduced facilitation.  \n",
    "- **Nunnally James:** **Zach Leday**’s valuation decreases (10.00 vs. 14.30), suggesting synergy with Nunnally that boosts Leday’s performance.  \n",
    "\n",
    "**Zach Leday**’s overall performance peaks without **Punter Kevin** but suffers without **Exum Dante** or **Nunnally James**."
   ]
  },
  {
   "cell_type": "markdown",
   "metadata": {},
   "source": [
    "Zach Leday’s rebounds and assists are compared when other key players are present versus absent."
   ]
  },
  {
   "cell_type": "code",
   "execution_count": 11,
   "metadata": {},
   "outputs": [
    {
     "name": "stdout",
     "output_type": "stream",
     "text": [
      "Zach Leday’s Rebounds Analysis:\n",
      "\n",
      "When Lessort Mathias is:\n",
      "Present: 5.00 rebounds (n=38 games)\n",
      "Absent: 8.00 rebounds (n=1 games)\n",
      "\n",
      "When Punter Kevin is:\n",
      "Present: 5.05 rebounds (n=37 games)\n",
      "Absent: 5.50 rebounds (n=2 games)\n",
      "\n",
      "When Exum Dante is:\n",
      "Present: 5.08 rebounds (n=38 games)\n",
      "Absent: 5.00 rebounds (n=1 games)\n",
      "\n",
      "When Nunnally James is:\n",
      "Present: 4.95 rebounds (n=37 games)\n",
      "Absent: 7.50 rebounds (n=2 games)\n",
      "\n",
      "Zach Leday’s Assists Analysis:\n",
      "\n",
      "When Lessort Mathias is:\n",
      "Present: 1.18 assists (n=38 games)\n",
      "Absent: 2.00 assists (n=1 games)\n",
      "\n",
      "When Punter Kevin is:\n",
      "Present: 1.19 assists (n=37 games)\n",
      "Absent: 1.50 assists (n=2 games)\n",
      "\n",
      "When Exum Dante is:\n",
      "Present: 1.24 assists (n=38 games)\n",
      "Absent: 0.00 assists (n=1 games)\n",
      "\n",
      "When Nunnally James is:\n",
      "Present: 1.22 assists (n=37 games)\n",
      "Absent: 1.00 assists (n=2 games)\n"
     ]
    }
   ],
   "source": [
    "# analyze Zach Leday’s rebounds\n",
    "print(\"Zach Leday’s Rebounds Analysis:\")\n",
    "for key_player in key_players:\n",
    "    if key_player == \"Leday Zach\":\n",
    "        continue\n",
    "    present_games = zach_data[zach_data[key_player] == False][\"total_rebounds\"]\n",
    "    absent_games = zach_data[zach_data[key_player] == True][\"total_rebounds\"]\n",
    "    print(f\"\\nWhen {key_player} is:\")\n",
    "    print(f\"Present: {present_games.mean():.2f} rebounds (n={len(present_games)} games)\")\n",
    "    if len(absent_games) > 0:\n",
    "        print(f\"Absent: {absent_games.mean():.2f} rebounds (n={len(absent_games)} games)\")\n",
    "    else:\n",
    "        print(f\"Absent: No absences recorded for {key_player}\")\n",
    "\n",
    "# analyze Zach Leday’s assists\n",
    "print(\"\\nZach Leday’s Assists Analysis:\")\n",
    "for key_player in key_players:\n",
    "    if key_player == \"Leday Zach\":\n",
    "        continue\n",
    "    present_games = zach_data[zach_data[key_player] == False][\"assists\"]\n",
    "    absent_games = zach_data[zach_data[key_player] == True][\"assists\"]\n",
    "    print(f\"\\nWhen {key_player} is:\")\n",
    "    print(f\"Present: {present_games.mean():.2f} assists (n={len(present_games)} games)\")\n",
    "    if len(absent_games) > 0:\n",
    "        print(f\"Absent: {absent_games.mean():.2f} assists (n={len(absent_games)} games)\")\n",
    "    else:\n",
    "        print(f\"Absent: No absences recorded for {key_player}\")"
   ]
  },
  {
   "cell_type": "markdown",
   "metadata": {},
   "source": [
    "### Interpretation  \n",
    "\n",
    "#### Rebounds  \n",
    "- Increase with **Lessort Mathias** (8.00 vs. 5.00) and **Nunnally James** (7.50 vs. 4.95) absent, showing **Zach Leday** compensates for their absence.  \n",
    "- Stable with **Punter Kevin** and **Exum Dante** absences.  \n",
    "\n",
    "#### Assists  \n",
    "- Rise slightly with **Lessort Mathias** (2.00 vs. 1.18) and **Punter Kevin** (1.50 vs. 1.19) absent.  \n",
    "- Drop to 0.00 with **Exum Dante** absent, suggesting **Zach Leday** relies on Exum’s playmaking.  \n",
    "- Slight decrease with **Nunnally James** absent (1.00 vs. 1.22).  \n",
    "\n",
    "**Zach Leday** adjusts his rebounding and passing based on teammates’ absences, particularly stepping up without **Lessort Mathias** or **Nunnally James**."
   ]
  },
  {
   "cell_type": "markdown",
   "metadata": {},
   "source": [
    "### Conclusion  \n",
    "\n",
    "#### Key Findings  \n",
    "\n",
    "**Team Performance:**  \n",
    "- Absences of **Lessort Mathias**, **Punter Kevin**, and **Exum Dante** reduce team points and valuation.  \n",
    "- **Nunnally James**’ absences slightly improve performance, though data is limited.  \n",
    "- **Zach Leday**’s consistent presence (no absences) makes his direct impact untestable.  \n",
    "\n",
    "**Zach Leday’s Performance:**  \n",
    "- Points and valuation surge when **Punter Kevin** is absent, indicating a larger role.  \n",
    "- Rebounds increase with **Lessort Mathias** and **Nunnally James** absent, showing adaptability.  \n",
    "- Assists rise slightly without **Lessort Mathias** and **Punter Kevin** but drop without **Exum Dante**.  \n",
    "\n",
    "#### Implications  \n",
    "- **Team Strategy:** Depth is critical to mitigate drops in performance when **Punter Kevin** or **Exum Dante** are absent.  \n",
    "- **Leday’s Role:** His versatility allows him to fill gaps, making him vital during roster disruptions.  \n",
    "- **Coaching Adjustments:** Leveraging **Zach Leday**’s adaptability can maintain competitiveness when key players are out."
   ]
  }
 ],
 "metadata": {
  "kernelspec": {
   "display_name": "python_developer",
   "language": "python",
   "name": "python3"
  },
  "language_info": {
   "codemirror_mode": {
    "name": "ipython",
    "version": 3
   },
   "file_extension": ".py",
   "mimetype": "text/x-python",
   "name": "python",
   "nbconvert_exporter": "python",
   "pygments_lexer": "ipython3",
   "version": "3.11.10"
  }
 },
 "nbformat": 4,
 "nbformat_minor": 2
}
